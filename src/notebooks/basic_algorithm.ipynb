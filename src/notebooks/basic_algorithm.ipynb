{
 "cells": [
  {
   "cell_type": "code",
   "execution_count": 100,
   "metadata": {
    "collapsed": false
   },
   "outputs": [],
   "source": [
    "import torch\n",
    "import matplotlib.pyplot as plt\n",
    "import math\n",
    "import numpy as np\n",
    "import os\n",
    "import sys\n",
    "\n",
    "\n",
    "cwd = os.getcwd()\n",
    "sys.path.append(os.path.dirname(os.path.dirname(cwd)))\n",
    "\n",
    "from src.problems import EVRP"
   ]
  },
  {
   "cell_type": "code",
   "execution_count": 101,
   "metadata": {
    "collapsed": false
   },
   "outputs": [],
   "source": [
    "from torch.utils.data._utils.collate import default_collate\n",
    "from torch.utils.data import DataLoader\n",
    "\n",
    "from src.utils.plot_timeline import plot_timeline, get_trailer_colors\n",
    "from src.utils import load_model\n",
    "from src.problems.evrp.baseline_algorithm import solve_evrp"
   ]
  },
  {
   "cell_type": "code",
   "execution_count": 102,
   "metadata": {
    "collapsed": true
   },
   "outputs": [],
   "source": [
    "# env = EVRP\n",
    "# dataset = env.make_dataset(\n",
    "#         filename='../instances/paper_5_nodes_swapping.json',\n",
    "#         r_threshold=0.6\n",
    "#     )\n",
    "# n_samples=1\n",
    "# example_name=\"paper5\"\n",
    "# plt.rcdefaults()"
   ]
  },
  {
   "cell_type": "code",
   "execution_count": 103,
   "metadata": {
    "collapsed": false
   },
   "outputs": [],
   "source": [
    "n_samples = 100\n",
    "env = EVRP\n",
    "np.random.seed(1234)\n",
    "dataset = env.make_dataset(\n",
    "        size=5,\n",
    "        num_samples=n_samples,\n",
    "        num_trucks=2,\n",
    "        num_trailers=4,\n",
    "        truck_names=None,\n",
    "        display_graphs=3,\n",
    "        r_threshold=0.6\n",
    "    )\n",
    "example_name=\"multiple\""
   ]
  },
  {
   "cell_type": "markdown",
   "metadata": {
    "collapsed": false
   },
   "source": [
    "##### Baseline"
   ]
  },
  {
   "cell_type": "code",
   "execution_count": 104,
   "metadata": {
    "collapsed": false
   },
   "outputs": [
    {
     "name": "stdout",
     "output_type": "stream",
     "text": [
      "Baseline Length Mean: 4.312023940086365 Baseline Time Mean: 9.92\n"
     ]
    }
   ],
   "source": [
    "baseline_cost = []\n",
    "baseline_ttime = []\n",
    "for env, evrp_graph in zip(dataset.data, dataset.sampler.graphs):\n",
    "    edges, total_time, total_cost = solve_evrp(evrp_graph.graph, env)\n",
    "    baseline_cost.append(total_cost)\n",
    "    baseline_ttime.append(total_time)\n",
    "\n",
    "print(f\"Baseline Length Mean: {np.mean(baseline_cost)}\", f\"Baseline Time Mean: {np.mean(baseline_ttime)}\")"
   ]
  },
  {
   "cell_type": "markdown",
   "metadata": {},
   "source": [
    "##### Plot Baseline Solution"
   ]
  },
  {
   "cell_type": "code",
   "execution_count": 105,
   "metadata": {},
   "outputs": [],
   "source": [
    "if n_samples == 1:\n",
    "    x=edges[torch.sort(edges, dim=0, descending=False)[1][:, -1]]\n",
    "    # Define the range of timestamps\n",
    "    timestamps = list(range(int(torch.min(x[:, -1]).item()), int(torch.max(x[:, -1]).item())+1))\n",
    "\n",
    "    # Create an empty tensor to store the new sequence\n",
    "    new_edges = torch.empty((0,5))\n",
    "\n",
    "    # Iterate over the timestamps\n",
    "    for t in timestamps:\n",
    "        # Check if the timestamp exists in the tensor\n",
    "        idx = (x[:, -1] == t).nonzero(as_tuple=True)\n",
    "        \n",
    "        if len(idx[0]) > 0:\n",
    "            # If the timestamp exists, append the corresponding row to the new tensor\n",
    "            new_edges = torch.cat((new_edges, x[idx]), dim=0)\n",
    "        else:\n",
    "            # If the timestamp does not exist, create a new row and append it to the tensor\n",
    "            # The row contains the last known truck location and -1 for the trailer status\n",
    "            last_truck_loc = new_edges[-1, 1]\n",
    "            truck=new_edges[-1, 2]\n",
    "            new_row = torch.tensor([[last_truck_loc, last_truck_loc, truck, -1., float(t)]])\n",
    "            new_edges = torch.cat((new_edges, new_row), dim=0)\n",
    "\n",
    "    for env, evrp_graph in zip(dataset.data, dataset.sampler.graphs):\n",
    "        # plot graphs\n",
    "        edge_count = len(new_edges) + 1\n",
    "\n",
    "        cols = 3\n",
    "        rows = math.ceil(edge_count / cols)\n",
    "\n",
    "        fig, axs = plt.subplots(rows, cols, figsize=(15, rows * 5.5))  # Adjusted figure size\n",
    "        plt.subplots_adjust(wspace=0.02, hspace=0.02)\n",
    "\n",
    "        # Flatten axs to easily iterate over it\n",
    "        axs = axs.ravel()\n",
    "\n",
    "        evrp_graph.draw(ax=axs[0], with_labels=False)\n",
    "        axs[0].set_title(\"Initial State\")\n",
    "        axs[0].set_xlim([-0.7, 1.3])\n",
    "        axs[0].set_ylim([-0.7, 1.3])\n",
    "        axs[0].set_aspect('equal')\n",
    "\n",
    "        col = 1\n",
    "        for edge in new_edges:\n",
    "            evrp_graph.clear()\n",
    "            evrp_graph.visit_edges([edge])\n",
    "            evrp_graph.draw(ax=axs[col], with_labels=True)\n",
    "            axs[col].set_title(f\"Step {col-1}\")\n",
    "            axs[col].set_xlim([-0.7, 1.3])\n",
    "            axs[col].set_ylim([-0.7, 1.3])\n",
    "            axs[col].set_aspect('equal')\n",
    "\n",
    "            col += 1\n",
    "        \n",
    "        data = edges.numpy().astype(int)\n",
    "        plot_timeline(data, example_name=f\"baseline_{example_name}\")\n",
    "\n",
    "        # Hide empty subplots\n",
    "        for j in range(col, len(axs)):\n",
    "            axs[j].axis('off')\n",
    "\n",
    "        plt.savefig(f\"../images/evrp/baseline_solution_{example_name}.png\", dpi=300, bbox_inches='tight')\n",
    "        plt.show()\n",
    "        plt.close()"
   ]
  },
  {
   "cell_type": "code",
   "execution_count": 106,
   "outputs": [],
   "source": [
    "def get_routes_in_timesteps(tensor):\n",
    "    num_timesteps = int(tensor[:, 4].max().item()) + 1\n",
    "\n",
    "    truck_routes = {}\n",
    "    trailer_routes = {}\n",
    "\n",
    "    # Initialize routes with first known locations\n",
    "    for i in range(int(tensor[:, 2].max().item()) + 1):\n",
    "        truck_routes[i] = [int(tensor[tensor[:, 2] == i][0, 0].item())]\n",
    "\n",
    "    for i in range(int(tensor[:, 3].max().item()) + 1):\n",
    "        trailer_routes[i] = [int(tensor[tensor[:, 3] == i][0, 0].item())]\n",
    "\n",
    "    # Update routes\n",
    "    for timestep in range(0, num_timesteps):\n",
    "        for i in truck_routes.keys():\n",
    "            mask = (tensor[:, 2] == i) & (tensor[:, 4] == timestep)\n",
    "            if tensor[mask].size()[0] != 0:\n",
    "                truck_routes[i].append(int(tensor[mask][0, 1].item()))\n",
    "            else:\n",
    "                truck_routes[i].append(truck_routes[i][-1])\n",
    "\n",
    "        for i in trailer_routes.keys():\n",
    "            mask = (tensor[:, 3] == i) & (tensor[:, 4] == timestep)\n",
    "            if tensor[mask].size()[0] != 0:\n",
    "                trailer_routes[i].append(int(tensor[mask][0, 1].item()))\n",
    "            else:\n",
    "                trailer_routes[i].append(trailer_routes[i][-1])\n",
    "\n",
    "    return truck_routes, trailer_routes\n"
   ],
   "metadata": {
    "collapsed": false
   }
  },
  {
   "cell_type": "code",
   "execution_count": 107,
   "outputs": [],
   "source": [
    "import matplotlib.pyplot as plt\n",
    "from scipy.cluster.hierarchy import linkage, leaves_list\n",
    "\n",
    "if n_samples == 1:\n",
    "    input = dataset[0][0][\"coords\"]\n",
    "    distance_matrix = (input[:, None, :]-\n",
    "        input[None, :, :]\n",
    "    ).norm(p=2, dim=-1)\n",
    "\n",
    "    tours_trucks_with_time, tours_trailers_with_time = get_routes_in_timesteps(new_edges)\n",
    "\n",
    "    def find_movement_windows(tours):\n",
    "        movement_windows = {}\n",
    "        for trailer_id, locations in tours.items():\n",
    "            windows = []\n",
    "            last_location = locations[0]\n",
    "            for i in range(1, len(locations)):\n",
    "                if locations[i] != last_location:\n",
    "                    windows.append((i - 1, i))\n",
    "                    last_location = locations[i]\n",
    "            movement_windows[trailer_id] = windows\n",
    "        return movement_windows\n",
    "\n",
    "    fig, ax = plt.subplots(figsize=(10, 5))\n",
    "\n",
    "    # Define linestyles\n",
    "    linestyles = ['dashed', 'dotted', 'loosely dotted', 'solid']\n",
    "\n",
    "    # Apply hierarchical clustering (using 'average' linkage method)\n",
    "    Z = linkage(distance_matrix, method='average')\n",
    "    # Get the order of the nodes\n",
    "    node_positions = leaves_list(Z)\n",
    "\n",
    "    # Map node positions to labels\n",
    "    node_labels = [f'Node {i}' for i in node_positions]\n",
    "    node_position_to_label = {pos: label for pos, label in zip(node_positions, node_labels)}\n",
    "\n",
    "    colors = get_trailer_colors(len(tours_trailers_with_time) + 1)\n",
    "\n",
    "    # Plot all points for trucks and trailers\n",
    "    for truck_idx, truck_route in enumerate(tours_trucks_with_time.values()):\n",
    "        y_values = [node_positions.tolist().index(node) for node in truck_route]\n",
    "        # ax.scatter(range(len(y_values)), [x-0.15 for x in y_values], color='black', marker='o', alpha=0.9)\n",
    "        ax.plot(y_values, linestyle=linestyles[truck_idx % len(linestyles)], color='black', alpha=0.7,\n",
    "                label=f'Tractor {truck_idx}', linewidth=1.2)\n",
    "\n",
    "    time_windows = find_movement_windows(tours_trailers_with_time)\n",
    "    # Plot trailer routes within time windows\n",
    "    for trailer_idx, trailer_route in enumerate(tours_trailers_with_time.values()):\n",
    "        for window_start, window_end in time_windows[trailer_idx]:\n",
    "            y_values_window = [node_positions.tolist().index(node) for node in trailer_route[window_start:window_end + 1]]\n",
    "            ax.plot([x for x in range(window_start, window_end + 1)], y_values_window, linestyle='-', marker=\"o\",\n",
    "                    linewidth=5, color=colors[trailer_idx], alpha=0.4, label=f'Trailer {trailer_idx}')\n",
    "\n",
    "    # Set plot labels\n",
    "    ax.set_title('Routes', fontdict={\"fontsize\": \"20\"})\n",
    "    ax.set_xlabel('Steps', fontdict={\"fontsize\": \"18\"})\n",
    "    # ax.set_ylabel('Node', fontdict={\"fontsize\":\"18\"})\n",
    "\n",
    "    handles, labels = ax.get_legend_handles_labels()\n",
    "    unique = [(h, l) for i, (h, l) in enumerate(zip(handles, labels)) if l not in labels[:i]]\n",
    "    ax.legend(*zip(*unique), bbox_to_anchor=(1, 1), fontsize=16)\n",
    "\n",
    "    ax.set_yticks(range(len(node_positions)))\n",
    "    ax.set_yticklabels(node_labels, fontsize=14)\n",
    "\n",
    "    # add grid\n",
    "    ax.grid(True, linewidth=0.1)\n",
    "    # set xticks to be integers\n",
    "    num_steps = len(next(iter(tours_trucks_with_time.values())))\n",
    "    ax.set_xticks(np.arange(num_steps))\n",
    "    ax.set_xticklabels(np.arange(num_steps), fontsize=14)\n",
    "\n",
    "    plt.tight_layout()\n",
    "    plt.savefig(f\"../images/evrp/route_baseline_{example_name}.png\", dpi=300, bbox_inches='tight')\n",
    "    plt.show()"
   ],
   "metadata": {
    "collapsed": false
   }
  },
  {
   "cell_type": "markdown",
   "metadata": {
    "collapsed": false
   },
   "source": [
    "##### Model"
   ]
  },
  {
   "cell_type": "code",
   "execution_count": 108,
   "metadata": {},
   "outputs": [],
   "source": [
    "# # reset\n",
    "# env = EVRP\n",
    "# dataset = env.make_dataset(\n",
    "#         filename='../instances/paper_5_nodes_swapping.json',\n",
    "#         r_threshold=0.6\n",
    "#     )\n",
    "# n_samples=1\n",
    "# example_name=\"paper5\"\n",
    "# plt.rcdefaults()"
   ]
  },
  {
   "cell_type": "code",
   "execution_count": 109,
   "metadata": {
    "collapsed": false
   },
   "outputs": [
    {
     "name": "stdout",
     "output_type": "stream",
     "text": [
      "  [*] Loading model from ../model/epoch-50.pt\n"
     ]
    }
   ],
   "source": [
    "# model, _ = load_model('../../outputs/evrp_5/rollout_20230725T213940') # model to compare with the other epochs 30 without extra costs\n",
    "# model, _ = load_model('../../outputs/evrp_5/rollout_20230804T020006/epoch-14.pt') # changed cost function model to compare (normal reward func)\n",
    "# model, _ = load_model('../../outputs/evrp_5/rollout_20230806T115541/epoch-21.pt') # changed cost function model to compare (normal reward func) NAdam\n",
    "\n",
    "# model, _ = load_model('../../runs/evrp_5/rollout_20230814T133518') # changed cost function model to compare (normal reward func) / NAdam\n",
    "\n",
    "# model, _ = load_model('../../outputs/evrp_5/rollout_20230814T132807') # same\n",
    "\n",
    "\n",
    "model, _ = load_model('../model') # changed cost function model to compare (normal reward func) / NAdam"
   ]
  },
  {
   "cell_type": "code",
   "execution_count": 110,
   "metadata": {
    "collapsed": false
   },
   "outputs": [],
   "source": [
    "def collate_fn(batch):\n",
    "    data_batch, graph_batch = zip(*batch)\n",
    "\n",
    "    return default_collate(data_batch), list(graph_batch)\n"
   ]
  },
  {
   "cell_type": "code",
   "execution_count": 111,
   "metadata": {
    "collapsed": false
   },
   "outputs": [],
   "source": [
    "def tensor_to_tuples(tensor):\n",
    "    batch_size, features, time = tensor.shape\n",
    "    edges = []\n",
    "    for b in range(batch_size):\n",
    "        batch_list = tuple(tensor[b, :, time - 1].tolist())\n",
    "        edges.append([batch_list])\n",
    "\n",
    "    return edges"
   ]
  },
  {
   "cell_type": "code",
   "execution_count": 112,
   "metadata": {
    "collapsed": false
   },
   "outputs": [
    {
     "name": "stdout",
     "output_type": "stream",
     "text": [
      "Finished Batches 91/100\n",
      "Length:  tensor(8.7092) Penalty:  tensor(10.6800, dtype=torch.float64)\n",
      "Reward:  tensor(1.2693, dtype=torch.float64)\n"
     ]
    }
   ],
   "source": [
    "# Need a dataloader to batch instances\n",
    "dataloader = DataLoader(dataset, batch_size=n_samples, collate_fn=collate_fn)\n",
    "\n",
    "# Make var works for dicts\n",
    "batch = next(iter(dataloader))\n",
    "# Run the model\n",
    "model.eval()\n",
    "model.set_decode_type('greedy')\n",
    "\n",
    "with torch.no_grad():\n",
    "    cost, length, reward, penalty, _, edges_model, decision_model = model(batch[0].copy(), batch[1].copy(), return_pi=True)\n",
    "\n",
    "edges_model=edges_model.permute(1,2,0)\n",
    "decision_model=decision_model.permute(0, 2, 1)"
   ]
  },
  {
   "cell_type": "code",
   "execution_count": 113,
   "metadata": {},
   "outputs": [
    {
     "data": {
      "text/plain": "torch.Size([100, 313, 5])"
     },
     "execution_count": 113,
     "metadata": {},
     "output_type": "execute_result"
    }
   ],
   "source": [
    "edges_model.shape"
   ]
  },
  {
   "cell_type": "code",
   "execution_count": 114,
   "metadata": {
    "collapsed": false
   },
   "outputs": [
    {
     "name": "stdout",
     "output_type": "stream",
     "text": [
      "Cost:  9.348485730588436 Length:  9.825746536254883 Total Time:  18 Reward: 0.4772608056664467 Penalty: 0.0\n",
      "Cost:  3.3070322945713997 Length:  4.3824639320373535 Total Time:  9 Reward: 1.0754316374659538 Penalty: 0.0\n",
      "Cost:  3.3203598335385323 Length:  4.154705047607422 Total Time:  10 Reward: 0.8343452140688896 Penalty: 0.0\n",
      "Cost:  156.47612217068672 Length:  2.794952869415283 Total Time:  312 Reward: 0.3188306987285614 Penalty: 154.0\n",
      "Cost:  0.6125115603208542 Length:  4.326382160186768 Total Time:  8 Reward: 3.7138705998659134 Penalty: 0.0\n",
      "Cost:  156.2388303950429 Length:  5.728285789489746 Total Time:  312 Reward: 0.4894553944468498 Penalty: 151.0\n",
      "Cost:  3.6678790524601936 Length:  4.461151123046875 Total Time:  7 Reward: 0.7932720705866814 Penalty: 0.0\n",
      "Cost:  1.5221081003546715 Length:  4.151220321655273 Total Time:  7 Reward: 2.629112221300602 Penalty: 0.0\n",
      "Cost:  4.79794380068779 Length:  5.334544658660889 Total Time:  9 Reward: 0.5366008579730988 Penalty: 0.0\n",
      "Cost:  4.1719786003232 Length:  5.168971061706543 Total Time:  9 Reward: 0.9969924613833427 Penalty: 0.0\n",
      "Cost:  3.575206898152828 Length:  4.273688316345215 Total Time:  8 Reward: 0.6984814181923866 Penalty: 0.0\n",
      "Cost:  9.274145890027285 Length:  9.719816207885742 Total Time:  18 Reward: 0.44567031785845757 Penalty: 0.0\n",
      "Cost:  0.4641844481229782 Length:  3.9701130390167236 Total Time:  8 Reward: 3.5059285908937454 Penalty: 0.0\n",
      "Cost:  163.98661069571972 Length:  164.70059204101562 Total Time:  312 Reward: 0.7139813452959061 Penalty: 0.0\n",
      "Cost:  3.4988201335072517 Length:  4.351909637451172 Total Time:  7 Reward: 0.8530895039439201 Penalty: 0.0\n",
      "Cost:  6.033246085047722 Length:  6.602132320404053 Total Time:  11 Reward: 0.5688862353563309 Penalty: 0.0\n",
      "Cost:  2.7014140859246254 Length:  4.993092060089111 Total Time:  8 Reward: 2.291677974164486 Penalty: 0.0\n",
      "Cost:  4.562842406332493 Length:  5.325064659118652 Total Time:  9 Reward: 0.7622222527861595 Penalty: 0.0\n",
      "Cost:  3.7580685317516327 Length:  4.868386268615723 Total Time:  8 Reward: 1.11031773686409 Penalty: 0.0\n",
      "Cost:  2.021415613591671 Length:  4.911077499389648 Total Time:  8 Reward: 2.8896618857979774 Penalty: 0.0\n",
      "Cost:  0.4762079417705536 Length:  3.943777084350586 Total Time:  7 Reward: 3.4675691425800323 Penalty: 0.0\n",
      "Cost:  5.428575873374939 Length:  6.010672092437744 Total Time:  10 Reward: 0.5820962190628052 Penalty: 0.0\n",
      "Cost:  4.680778868496418 Length:  6.690451622009277 Total Time:  12 Reward: 2.0096727535128593 Penalty: 0.0\n",
      "Cost:  4.810102678835392 Length:  5.979122161865234 Total Time:  12 Reward: 1.1690194830298424 Penalty: 0.0\n",
      "Cost:  2.611124612390995 Length:  3.891817092895508 Total Time:  7 Reward: 1.2806924805045128 Penalty: 0.0\n",
      "Cost:  6.359139077365398 Length:  7.344043731689453 Total Time:  13 Reward: 0.9849046543240547 Penalty: 0.0\n",
      "Cost:  5.4881910011172295 Length:  6.229701995849609 Total Time:  11 Reward: 0.7415109947323799 Penalty: 0.0\n",
      "Cost:  4.966302216053009 Length:  5.607862949371338 Total Time:  10 Reward: 0.6415607333183289 Penalty: 0.0\n",
      "Cost:  3.5296898633241653 Length:  4.231725215911865 Total Time:  7 Reward: 0.7020353525876999 Penalty: 0.0\n",
      "Cost:  3.8649578765034676 Length:  4.579677581787109 Total Time:  9 Reward: 0.7147197052836418 Penalty: 0.0\n",
      "Cost:  6.106845870614052 Length:  6.650182247161865 Total Time:  12 Reward: 0.5433363765478134 Penalty: 0.0\n",
      "Cost:  3.329039379954338 Length:  4.664175510406494 Total Time:  8 Reward: 1.335136130452156 Penalty: 0.0\n",
      "Cost:  9.17804592102766 Length:  9.642276763916016 Total Time:  17 Reward: 0.46423084288835526 Penalty: 0.0\n",
      "Cost:  0.6251450330018997 Length:  3.1888394355773926 Total Time:  6 Reward: 2.563694402575493 Penalty: 0.0\n",
      "Cost:  0.19858917593955994 Length:  3.1302378177642822 Total Time:  5 Reward: 2.9316486418247223 Penalty: 0.0\n",
      "Cost:  1.8696654438972473 Length:  3.2470622062683105 Total Time:  5 Reward: 1.3773967623710632 Penalty: 0.0\n",
      "Cost:  1.2711736783385277 Length:  3.725593090057373 Total Time:  7 Reward: 2.4544194117188454 Penalty: 0.0\n",
      "Cost:  3.970973491668701 Length:  4.790135383605957 Total Time:  10 Reward: 0.8191618919372559 Penalty: 0.0\n",
      "Cost:  5.730708383023739 Length:  6.884657859802246 Total Time:  13 Reward: 1.1539494767785072 Penalty: 0.0\n",
      "Cost:  9.466614034026861 Length:  9.773408889770508 Total Time:  19 Reward: 0.3067948557436466 Penalty: 0.0\n",
      "Cost:  7.106924150139093 Length:  9.192777633666992 Total Time:  17 Reward: 2.085853483527899 Penalty: 0.0\n",
      "Cost:  7.08859870955348 Length:  7.698957443237305 Total Time:  13 Reward: 0.6103587336838245 Penalty: 0.0\n",
      "Cost:  155.430581048131 Length:  2.9541516304016113 Total Time:  312 Reward: 0.5235705822706223 Penalty: 153.0\n",
      "Cost:  4.463865697383881 Length:  5.405619144439697 Total Time:  10 Reward: 0.9417534470558167 Penalty: 0.0\n",
      "Cost:  5.960279993712902 Length:  6.910381317138672 Total Time:  12 Reward: 0.9501013234257698 Penalty: 0.0\n",
      "Cost:  6.852489460259676 Length:  7.451861381530762 Total Time:  13 Reward: 0.5993719212710857 Penalty: 0.0\n",
      "Cost:  156.41805556416512 Length:  5.1276750564575195 Total Time:  312 Reward: 0.7096194922924042 Penalty: 152.0\n",
      "Cost:  4.0360424146056175 Length:  4.787876129150391 Total Time:  8 Reward: 0.7518337145447731 Penalty: 0.0\n",
      "Cost:  4.877639748156071 Length:  5.480140209197998 Total Time:  9 Reward: 0.6025004610419273 Penalty: 0.0\n",
      "Cost:  5.150751769542694 Length:  7.320084571838379 Total Time:  13 Reward: 2.169332802295685 Penalty: 0.0\n",
      "Cost:  7.049932308495045 Length:  7.699652671813965 Total Time:  13 Reward: 0.6497203633189201 Penalty: 0.0\n",
      "Cost:  154.84198988974094 Length:  3.3624215126037598 Total Time:  312 Reward: 2.020431622862816 Penalty: 153.5\n",
      "Cost:  4.490028992295265 Length:  5.504302024841309 Total Time:  9 Reward: 1.0142730325460434 Penalty: 0.0\n",
      "Cost:  3.502361476421356 Length:  4.327672958374023 Total Time:  9 Reward: 0.8253114819526672 Penalty: 0.0\n",
      "Cost:  2.989525333046913 Length:  4.307120323181152 Total Time:  7 Reward: 1.3175949901342392 Penalty: 0.0\n",
      "Cost:  4.764775551855564 Length:  5.786160945892334 Total Time:  13 Reward: 1.0213853940367699 Penalty: 0.0\n",
      "Cost:  1.9354392439126968 Length:  3.313344955444336 Total Time:  5 Reward: 1.377905711531639 Penalty: 0.0\n",
      "Cost:  2.4623816311359406 Length:  4.761270523071289 Total Time:  8 Reward: 2.2988888919353485 Penalty: 0.0\n",
      "Cost:  3.5729302763938904 Length:  4.369415760040283 Total Time:  8 Reward: 0.7964854836463928 Penalty: 0.0\n",
      "Cost:  3.2903585135936737 Length:  5.546731948852539 Total Time:  10 Reward: 2.2563734352588654 Penalty: 0.0\n",
      "Cost:  2.613252855837345 Length:  3.9767560958862305 Total Time:  7 Reward: 1.3635032400488853 Penalty: 0.0\n",
      "Cost:  5.114907503128052 Length:  5.80487060546875 Total Time:  10 Reward: 0.6899631023406982 Penalty: 0.0\n",
      "Cost:  2.7543621361255646 Length:  3.805643320083618 Total Time:  7 Reward: 1.0512811839580536 Penalty: 0.0\n",
      "Cost:  177.9905373454094 Length:  178.59640502929688 Total Time:  312 Reward: 0.6058676838874817 Penalty: 0.0\n",
      "Cost:  0.9276319146156311 Length:  3.4520232677459717 Total Time:  6 Reward: 2.5243913531303406 Penalty: 0.0\n",
      "Cost:  2.883506290614605 Length:  3.79219651222229 Total Time:  7 Reward: 0.9086902216076851 Penalty: 0.0\n",
      "Cost:  4.218703851103783 Length:  5.343423843383789 Total Time:  10 Reward: 1.1247199922800064 Penalty: 0.0\n",
      "Cost:  -0.37958040833473206 Length:  3.3210036754608154 Total Time:  6 Reward: 3.7005840837955475 Penalty: 0.0\n",
      "Cost:  4.344703949987888 Length:  5.6710591316223145 Total Time:  10 Reward: 1.3263551816344261 Penalty: 0.0\n",
      "Cost:  6.011970967054367 Length:  6.963932991027832 Total Time:  13 Reward: 0.951962023973465 Penalty: 0.0\n",
      "Cost:  3.3809904158115387 Length:  4.516590118408203 Total Time:  8 Reward: 1.1355997025966644 Penalty: 0.0\n",
      "Cost:  3.189064048230648 Length:  4.3868303298950195 Total Time:  7 Reward: 1.1977662816643715 Penalty: 0.0\n",
      "Cost:  7.757974054664373 Length:  8.507800102233887 Total Time:  15 Reward: 0.7498260475695133 Penalty: 0.0\n",
      "Cost:  3.640429750084877 Length:  4.754681587219238 Total Time:  9 Reward: 1.1142518371343613 Penalty: 0.0\n",
      "Cost:  3.7989300787448883 Length:  4.599936008453369 Total Time:  8 Reward: 0.8010059297084808 Penalty: 0.0\n",
      "Cost:  3.0685943588614464 Length:  5.834905624389648 Total Time:  10 Reward: 2.766311265528202 Penalty: 0.0\n",
      "Cost:  6.859255474060774 Length:  7.514051914215088 Total Time:  13 Reward: 0.654796440154314 Penalty: 0.0\n",
      "Cost:  5.297582313418388 Length:  5.735791206359863 Total Time:  10 Reward: 0.4382088929414749 Penalty: 0.0\n",
      "Cost:  5.745279289782047 Length:  6.342009544372559 Total Time:  10 Reward: 0.5967302545905113 Penalty: 0.0\n",
      "Cost:  7.677355013787746 Length:  8.254383087158203 Total Time:  14 Reward: 0.5770280733704567 Penalty: 0.0\n",
      "Cost:  5.491658538579941 Length:  6.554998397827148 Total Time:  11 Reward: 1.0633398592472076 Penalty: 0.0\n",
      "Cost:  2.523775301873684 Length:  5.0412373542785645 Total Time:  9 Reward: 2.5174620524048805 Penalty: 0.0\n",
      "Cost:  4.80576940625906 Length:  5.277812957763672 Total Time:  11 Reward: 0.47204355150461197 Penalty: 0.0\n",
      "Cost:  2.943121060729027 Length:  5.780522346496582 Total Time:  10 Reward: 2.8374012857675552 Penalty: 0.0\n",
      "Cost:  3.621319457888603 Length:  5.95919132232666 Total Time:  11 Reward: 2.337871864438057 Penalty: 0.0\n",
      "Cost:  156.53620594739914 Length:  3.687985897064209 Total Time:  312 Reward: 0.15177994966506958 Penalty: 153.0\n",
      "Cost:  4.076060779392719 Length:  5.201713562011719 Total Time:  9 Reward: 1.1256527826189995 Penalty: 0.0\n",
      "Cost:  5.518094748258591 Length:  6.452780246734619 Total Time:  11 Reward: 0.9346854984760284 Penalty: 0.0\n",
      "Cost:  156.12740141153336 Length:  5.084201812744141 Total Time:  312 Reward: 0.4568004012107849 Penalty: 151.5\n",
      "Cost:  0.7026156634092331 Length:  3.1859688758850098 Total Time:  5 Reward: 2.4833532124757767 Penalty: 0.0\n",
      "Cost:  2.6381711140275 Length:  3.33792781829834 Total Time:  7 Reward: 0.6997567042708397 Penalty: 0.0\n",
      "Cost:  5.567415826022625 Length:  6.319091796875 Total Time:  12 Reward: 0.751675970852375 Penalty: 0.0\n",
      "Cost:  6.345001865178347 Length:  7.055027961730957 Total Time:  13 Reward: 0.7100260965526104 Penalty: 0.0\n",
      "Cost:  5.544117696583271 Length:  6.187687873840332 Total Time:  11 Reward: 0.643570177257061 Penalty: 0.0\n",
      "Cost:  4.030455328524113 Length:  4.819808006286621 Total Time:  8 Reward: 0.7893526777625084 Penalty: 0.0\n",
      "Cost:  1.4997208788990974 Length:  4.353199005126953 Total Time:  7 Reward: 2.8534781262278557 Penalty: 0.0\n",
      "Cost:  3.015658549964428 Length:  3.8556153774261475 Total Time:  7 Reward: 0.8399568274617195 Penalty: 0.0\n",
      "Cost:  0.040602512657642365 Length:  3.5499870777130127 Total Time:  7 Reward: 3.5093845650553703 Penalty: 0.0\n",
      "Cost:  5.653279967606068 Length:  6.871603012084961 Total Time:  12 Reward: 1.2183230444788933 Penalty: 0.0\n",
      "Cost:  4.831214867532253 Length:  5.610862731933594 Total Time:  10 Reward: 0.7796478644013405 Penalty: 0.0\n"
     ]
    }
   ],
   "source": [
    "model_times = []\n",
    "for i, env in enumerate(dataset.data):\n",
    "    data = edges_model[i].numpy().astype(int)\n",
    "    print(\"Cost: \", cost[i].item(), \"Length: \", length[i].item(), \"Total Time: \", data[-1][-1], f\"Reward: {reward[i].item()}\", f\"Penalty: {penalty[i].item()}\")\n",
    "    model_times.append(data[-1][-1])\n",
    "    # plot_timeline(data)\n",
    "\n",
    "    model_length = length.mean()\n",
    "    model_cost = cost.mean()\n",
    "    model_ttime = np.array(model_times).mean()"
   ]
  },
  {
   "cell_type": "markdown",
   "metadata": {},
   "source": [
    "##### Plot Model Solution"
   ]
  },
  {
   "cell_type": "code",
   "execution_count": 115,
   "metadata": {},
   "outputs": [],
   "source": [
    "if n_samples == 1:\n",
    "    for i, (env, evrp_graph) in enumerate(zip(dataset.data, dataset.sampler.graphs)):\n",
    "        # plot graphs\n",
    "        edge_count = len(edges_model[i]) + 1\n",
    "\n",
    "        cols = 3\n",
    "        rows = math.ceil(edge_count / cols)\n",
    "\n",
    "        fig, axs = plt.subplots(rows, cols, figsize=(15, rows * 5.5))  # Adjusted figure size\n",
    "        plt.subplots_adjust(wspace=0.02, hspace=0.02)\n",
    "\n",
    "        # Flatten axs to easily iterate over it\n",
    "        axs = axs.ravel()\n",
    "\n",
    "        evrp_graph.draw(ax=axs[0], with_labels=False)\n",
    "        axs[0].set_title(\"Initial State\")\n",
    "        axs[0].set_xlim([-0.7, 1.3])\n",
    "        axs[0].set_ylim([-0.7, 1.3])\n",
    "        axs[0].set_aspect('equal')\n",
    "\n",
    "        col = 1\n",
    "        for edge in edges_model[i]:\n",
    "            evrp_graph.clear()\n",
    "            evrp_graph.visit_edges([edge])\n",
    "            evrp_graph.draw(ax=axs[col], with_labels=True)\n",
    "            axs[col].set_title(f\"Step {col-1}\")\n",
    "            axs[col].set_xlim([-0.7, 1.3])\n",
    "            axs[col].set_ylim([-0.7, 1.3])\n",
    "            axs[col].set_aspect('equal')\n",
    "\n",
    "            col += 1\n",
    "\n",
    "        data = edges_model[i].numpy().astype(int)\n",
    "        plot_timeline(data, example_name=example_name)\n",
    "\n",
    "        # Hide empty subplots\n",
    "        for j in range(col, len(axs)):\n",
    "            axs[j].axis('off')\n",
    "\n",
    "        plt.savefig(f\"../images/evrp/plot_solution_baseline{example_name}.png\", dpi=300, bbox_inches='tight')\n",
    "        plt.show()\n",
    "        plt.close()"
   ]
  },
  {
   "cell_type": "markdown",
   "metadata": {},
   "source": [
    "##### Display Data"
   ]
  },
  {
   "cell_type": "code",
   "execution_count": 116,
   "metadata": {
    "collapsed": false
   },
   "outputs": [
    {
     "data": {
      "text/plain": "(4.312023940086365, 9.92)"
     },
     "execution_count": 116,
     "metadata": {},
     "output_type": "execute_result"
    }
   ],
   "source": [
    "np.array(baseline_cost).mean(), np.array(baseline_ttime).mean()"
   ]
  },
  {
   "cell_type": "code",
   "execution_count": 117,
   "metadata": {
    "collapsed": false
   },
   "outputs": [
    {
     "data": {
      "text/plain": "([7.263076305389404,\n  3.0142405033111572,\n  3.0636682510375977,\n  3.9385876655578613,\n  3.7798538208007812,\n  4.711589813232422,\n  4.461151123046875,\n  3.1221022605895996,\n  4.804460525512695,\n  3.54215407371521,\n  3.771120309829712,\n  6.7326812744140625,\n  3.022399425506592,\n  8.293746948242188,\n  4.346357822418213,\n  5.553314208984375,\n  4.433529853820801,\n  5.325064182281494,\n  3.8039748668670654,\n  4.295619010925293,\n  2.3347043991088867,\n  3.7762207984924316,\n  4.439894199371338,\n  3.9542040824890137,\n  2.7233495712280273,\n  6.329698085784912,\n  3.6822094917297363,\n  4.2534685134887695,\n  3.761223554611206,\n  4.169599533081055,\n  4.6054840087890625,\n  3.6488335132598877,\n  7.49839973449707,\n  3.0545763969421387,\n  3.1189846992492676,\n  2.679414749145508,\n  3.1458113193511963,\n  3.359804153442383,\n  4.642729759216309,\n  4.913887977600098,\n  4.822520732879639,\n  6.6514506340026855,\n  3.250936985015869,\n  2.333944082260132,\n  5.3486008644104,\n  5.800203323364258,\n  4.942943572998047,\n  3.69899845123291,\n  4.963683128356934,\n  5.741684913635254,\n  5.539152145385742,\n  4.8380656242370605,\n  5.504302024841309,\n  3.3798069953918457,\n  3.168255567550659,\n  3.7053894996643066,\n  2.1210038661956787,\n  4.829113006591797,\n  3.954371452331543,\n  5.083835124969482,\n  2.991105794906616,\n  4.954695701599121,\n  2.9194798469543457,\n  5.224053382873535,\n  3.0572164058685303,\n  3.3867757320404053,\n  3.352222442626953,\n  2.793161392211914,\n  4.088123321533203,\n  5.441473960876465,\n  4.047588348388672,\n  3.282710075378418,\n  4.277338027954102,\n  2.8057804107666016,\n  4.599936008453369,\n  4.584221839904785,\n  5.3123931884765625,\n  5.150432586669922,\n  5.444570541381836,\n  7.71343994140625,\n  4.955049514770508,\n  4.4674530029296875,\n  4.234104633331299,\n  3.15238094329834,\n  5.093001365661621,\n  7.07041072845459,\n  4.186304092407227,\n  3.756248950958252,\n  6.913567543029785,\n  2.9596946239471436,\n  2.985185384750366,\n  4.15015983581543,\n  4.874542236328125,\n  4.041899681091309,\n  3.701742172241211,\n  3.8046977519989014,\n  3.3256921768188477,\n  2.8262109756469727,\n  4.239069938659668,\n  3.98880672454834],\n [14,\n  7,\n  7,\n  14,\n  7,\n  12,\n  7,\n  5,\n  13,\n  6,\n  8,\n  12,\n  9,\n  21,\n  7,\n  15,\n  8,\n  9,\n  8,\n  10,\n  6,\n  9,\n  9,\n  9,\n  10,\n  21,\n  7,\n  8,\n  9,\n  9,\n  10,\n  8,\n  14,\n  6,\n  6,\n  6,\n  7,\n  11,\n  10,\n  12,\n  14,\n  11,\n  7,\n  6,\n  13,\n  12,\n  12,\n  12,\n  9,\n  13,\n  11,\n  8,\n  11,\n  7,\n  7,\n  11,\n  6,\n  9,\n  11,\n  11,\n  6,\n  10,\n  9,\n  14,\n  6,\n  6,\n  7,\n  7,\n  11,\n  15,\n  13,\n  10,\n  11,\n  9,\n  9,\n  12,\n  11,\n  18,\n  9,\n  15,\n  9,\n  10,\n  9,\n  8,\n  9,\n  12,\n  11,\n  8,\n  13,\n  5,\n  12,\n  10,\n  11,\n  14,\n  10,\n  11,\n  12,\n  7,\n  9,\n  7])"
     },
     "execution_count": 117,
     "metadata": {},
     "output_type": "execute_result"
    }
   ],
   "source": [
    "baseline_cost, baseline_ttime"
   ]
  },
  {
   "cell_type": "code",
   "execution_count": 118,
   "metadata": {
    "collapsed": false
   },
   "outputs": [
    {
     "data": {
      "text/plain": "(tensor(18.1199, dtype=torch.float64), tensor(8.7092), 36.98)"
     },
     "execution_count": 118,
     "metadata": {},
     "output_type": "execute_result"
    }
   ],
   "source": [
    "model_cost, model_length, model_ttime"
   ]
  },
  {
   "cell_type": "code",
   "execution_count": 119,
   "metadata": {
    "collapsed": false
   },
   "outputs": [
    {
     "data": {
      "text/plain": "(tensor([  9.8257,   4.3825,   4.1547,   2.7950,   4.3264,   5.7283,   4.4612,\n           4.1512,   5.3345,   5.1690,   4.2737,   9.7198,   3.9701, 164.7006,\n           4.3519,   6.6021,   4.9931,   5.3251,   4.8684,   4.9111,   3.9438,\n           6.0107,   6.6905,   5.9791,   3.8918,   7.3440,   6.2297,   5.6079,\n           4.2317,   4.5797,   6.6502,   4.6642,   9.6423,   3.1888,   3.1302,\n           3.2471,   3.7256,   4.7901,   6.8847,   9.7734,   9.1928,   7.6990,\n           2.9542,   5.4056,   6.9104,   7.4519,   5.1277,   4.7879,   5.4801,\n           7.3201,   7.6997,   3.3624,   5.5043,   4.3277,   4.3071,   5.7862,\n           3.3133,   4.7613,   4.3694,   5.5467,   3.9768,   5.8049,   3.8056,\n         178.5964,   3.4520,   3.7922,   5.3434,   3.3210,   5.6711,   6.9639,\n           4.5166,   4.3868,   8.5078,   4.7547,   4.5999,   5.8349,   7.5141,\n           5.7358,   6.3420,   8.2544,   6.5550,   5.0412,   5.2778,   5.7805,\n           5.9592,   3.6880,   5.2017,   6.4528,   5.0842,   3.1860,   3.3379,\n           6.3191,   7.0550,   6.1877,   4.8198,   4.3532,   3.8556,   3.5500,\n           6.8716,   5.6109]),\n tensor([ 9.3485e+00,  3.3070e+00,  3.3204e+00,  1.5648e+02,  6.1251e-01,\n          1.5624e+02,  3.6679e+00,  1.5221e+00,  4.7979e+00,  4.1720e+00,\n          3.5752e+00,  9.2741e+00,  4.6418e-01,  1.6399e+02,  3.4988e+00,\n          6.0332e+00,  2.7014e+00,  4.5628e+00,  3.7581e+00,  2.0214e+00,\n          4.7621e-01,  5.4286e+00,  4.6808e+00,  4.8101e+00,  2.6111e+00,\n          6.3591e+00,  5.4882e+00,  4.9663e+00,  3.5297e+00,  3.8650e+00,\n          6.1068e+00,  3.3290e+00,  9.1780e+00,  6.2515e-01,  1.9859e-01,\n          1.8697e+00,  1.2712e+00,  3.9710e+00,  5.7307e+00,  9.4666e+00,\n          7.1069e+00,  7.0886e+00,  1.5543e+02,  4.4639e+00,  5.9603e+00,\n          6.8525e+00,  1.5642e+02,  4.0360e+00,  4.8776e+00,  5.1508e+00,\n          7.0499e+00,  1.5484e+02,  4.4900e+00,  3.5024e+00,  2.9895e+00,\n          4.7648e+00,  1.9354e+00,  2.4624e+00,  3.5729e+00,  3.2904e+00,\n          2.6133e+00,  5.1149e+00,  2.7544e+00,  1.7799e+02,  9.2763e-01,\n          2.8835e+00,  4.2187e+00, -3.7958e-01,  4.3447e+00,  6.0120e+00,\n          3.3810e+00,  3.1891e+00,  7.7580e+00,  3.6404e+00,  3.7989e+00,\n          3.0686e+00,  6.8593e+00,  5.2976e+00,  5.7453e+00,  7.6774e+00,\n          5.4917e+00,  2.5238e+00,  4.8058e+00,  2.9431e+00,  3.6213e+00,\n          1.5654e+02,  4.0761e+00,  5.5181e+00,  1.5613e+02,  7.0262e-01,\n          2.6382e+00,  5.5674e+00,  6.3450e+00,  5.5441e+00,  4.0305e+00,\n          1.4997e+00,  3.0157e+00,  4.0603e-02,  5.6533e+00,  4.8312e+00],\n        dtype=torch.float64),\n [18,\n  9,\n  10,\n  312,\n  8,\n  312,\n  7,\n  7,\n  9,\n  9,\n  8,\n  18,\n  8,\n  312,\n  7,\n  11,\n  8,\n  9,\n  8,\n  8,\n  7,\n  10,\n  12,\n  12,\n  7,\n  13,\n  11,\n  10,\n  7,\n  9,\n  12,\n  8,\n  17,\n  6,\n  5,\n  5,\n  7,\n  10,\n  13,\n  19,\n  17,\n  13,\n  312,\n  10,\n  12,\n  13,\n  312,\n  8,\n  9,\n  13,\n  13,\n  312,\n  9,\n  9,\n  7,\n  13,\n  5,\n  8,\n  8,\n  10,\n  7,\n  10,\n  7,\n  312,\n  6,\n  7,\n  10,\n  6,\n  10,\n  13,\n  8,\n  7,\n  15,\n  9,\n  8,\n  10,\n  13,\n  10,\n  10,\n  14,\n  11,\n  9,\n  11,\n  10,\n  11,\n  312,\n  9,\n  11,\n  312,\n  5,\n  7,\n  12,\n  13,\n  11,\n  8,\n  7,\n  7,\n  7,\n  12,\n  10])"
     },
     "execution_count": 119,
     "metadata": {},
     "output_type": "execute_result"
    }
   ],
   "source": [
    "length, cost, model_times"
   ]
  },
  {
   "cell_type": "markdown",
   "metadata": {
    "collapsed": false
   },
   "source": [
    "##### Plot Analysis Data"
   ]
  },
  {
   "cell_type": "code",
   "execution_count": 120,
   "metadata": {
    "collapsed": false
   },
   "outputs": [
    {
     "data": {
      "text/plain": "<Figure size 1800x600 with 3 Axes>",
      "image/png": "[encoded data removed]"
     },
     "metadata": {},
     "output_type": "display_data"
    }
   ],
   "source": [
    "import pandas as pd\n",
    "import seaborn as sns\n",
    "import matplotlib.pyplot as plt\n",
    "import matplotlib.ticker as ticker\n",
    "\n",
    "sns.set_theme(\"notebook\")\n",
    "\n",
    "instances = [str(i) for i in range(len(baseline_cost))]\n",
    "\n",
    "df_costs = pd.DataFrame({\n",
    "    'Instance': instances,\n",
    "    'Baseline': baseline_cost,\n",
    "    'Model': list(cost.numpy()),\n",
    "})\n",
    "# Sort the df_lengths dataframe based on 'Baseline'\n",
    "df_costs = df_costs.sort_values(by='Model')\n",
    "# Extract the order of instances\n",
    "ordered_instances = df_costs['Instance'].tolist()\n",
    "df_costs['Instance'] = pd.Categorical(df_costs['Instance'], categories=ordered_instances, ordered=True)\n",
    "df_costs = df_costs.sort_values('Instance')\n",
    "\n",
    "\n",
    "# Create a dataframe\n",
    "df_lengths = pd.DataFrame({\n",
    "    'Instance': instances,\n",
    "    'Baseline': baseline_cost,\n",
    "    'Model': list(length.numpy()),\n",
    "})\n",
    "# Apply the order to df_times (or any other dataframe)\n",
    "df_lengths['Instance'] = pd.Categorical(df_lengths['Instance'], categories=ordered_instances, ordered=True)\n",
    "df_lengths = df_lengths.sort_values('Instance')\n",
    "\n",
    "df_times = pd.DataFrame({\n",
    "    'Instance': instances,\n",
    "    'Baseline': baseline_ttime,\n",
    "    'Model': model_times,\n",
    "})\n",
    "df_times['Instance'] = pd.Categorical(df_times['Instance'], categories=ordered_instances, ordered=True)\n",
    "df_times = df_times.sort_values('Instance')\n",
    "\n",
    "fig, axs = plt.subplots(1, 3, figsize=(18, 6))\n",
    "colors = plt.cm.coolwarm(np.linspace(0, 1, 20))\n",
    "\n",
    "# Create a new figure for the cost comparison\n",
    "plot_i = 0\n",
    "# Adjust the xticks' label size\n",
    "axs[plot_i].tick_params(labelsize=14)\n",
    "sns.lineplot(x='Instance', y='value', hue='variable',\n",
    "             data=pd.melt(df_costs, ['Instance']), ax=axs[plot_i], palette=[colors[18], colors[3]])\n",
    "axs[plot_i].xaxis.set_major_locator(ticker.MaxNLocator(integer=True))  # set y-axis ticks to be integers\n",
    "axs[plot_i].set_title('Cost Comparison', size=20)\n",
    "axs[plot_i].set_xlabel('Instance', size=18)\n",
    "axs[plot_i].set_ylabel('Cost', size=18)\n",
    "# axs[0].legend()\n",
    "for text in axs[plot_i].legend().get_texts():\n",
    "    text.set_fontsize(16)\n",
    "\n",
    "# Create a new figure for the length comparison\n",
    "plot_i = 1\n",
    "# Adjust the xticks' label size\n",
    "axs[plot_i].tick_params(labelsize=14)\n",
    "sns.lineplot(x='Instance', y='value', hue='variable',\n",
    "             data=pd.melt(df_lengths, ['Instance']), ax=axs[plot_i], palette=[colors[18], colors[3]])\n",
    "axs[plot_i].xaxis.set_major_locator(ticker.MaxNLocator(integer=True))  # set y-axis ticks to be integers\n",
    "axs[plot_i].set_title('Length Comparison', size=20)\n",
    "axs[plot_i].set_xlabel('Instance', size=18)\n",
    "axs[plot_i].set_ylabel('Length', size=18)\n",
    "# axs[0].legend()\n",
    "for text in axs[plot_i].legend().get_texts():\n",
    "    text.set_fontsize(16)\n",
    "\n",
    "plot_i = 2\n",
    "# Adjust the xticks' label size\n",
    "axs[plot_i].tick_params(labelsize=14)\n",
    "sns.lineplot(x='Instance', y='value', hue='variable',\n",
    "             data=pd.melt(df_times, ['Instance']), ax=axs[plot_i], palette=[colors[18], colors[3]])\n",
    "axs[plot_i].xaxis.set_major_locator(ticker.MaxNLocator(integer=True))  # set y-axis ticks to be integers\n",
    "axs[plot_i].set_ylabel('Time', size=18)\n",
    "axs[plot_i].set_xlabel('Instance', size=18)\n",
    "axs[plot_i].set_title('Time Comparison', size=20)\n",
    "# axs[1].legend()\n",
    "for text in axs[plot_i].legend().get_texts():\n",
    "    text.set_fontsize(16)\n",
    "\n",
    "# Display plot\n",
    "plt.tight_layout()\n",
    "plt.savefig(\"../images/evrp/plot_basic_algorithm_comparison.png\", dpi=300, bbox_inches='tight')\n",
    "plt.show()"
   ]
  },
  {
   "cell_type": "code",
   "execution_count": 121,
   "outputs": [
    {
     "data": {
      "text/plain": "   Instance  Baseline       Model\n67       67  2.793161   -0.379580\n97       97  2.826211    0.040603\n34       34  3.118985    0.198589\n12       12  3.022399    0.464184\n20       20  2.334704    0.476208\n..      ...       ...         ...\n46       46  4.942944  156.418056\n3         3  3.938588  156.476122\n85       85  7.070411  156.536206\n13       13  8.293747  163.986611\n63       63  5.224053  177.990537\n\n[100 rows x 3 columns]",
      "text/html": "<div>\n<style scoped>\n    .dataframe tbody tr th:only-of-type {\n        vertical-align: middle;\n    }\n\n    .dataframe tbody tr th {\n        vertical-align: top;\n    }\n\n    .dataframe thead th {\n        text-align: right;\n    }\n</style>\n<table border=\"1\" class=\"dataframe\">\n  <thead>\n    <tr style=\"text-align: right;\">\n      <th></th>\n      <th>Instance</th>\n      <th>Baseline</th>\n      <th>Model</th>\n    </tr>\n  </thead>\n  <tbody>\n    <tr>\n      <th>67</th>\n      <td>67</td>\n      <td>2.793161</td>\n      <td>-0.379580</td>\n    </tr>\n    <tr>\n      <th>97</th>\n      <td>97</td>\n      <td>2.826211</td>\n      <td>0.040603</td>\n    </tr>\n    <tr>\n      <th>34</th>\n      <td>34</td>\n      <td>3.118985</td>\n      <td>0.198589</td>\n    </tr>\n    <tr>\n      <th>12</th>\n      <td>12</td>\n      <td>3.022399</td>\n      <td>0.464184</td>\n    </tr>\n    <tr>\n      <th>20</th>\n      <td>20</td>\n      <td>2.334704</td>\n      <td>0.476208</td>\n    </tr>\n    <tr>\n      <th>...</th>\n      <td>...</td>\n      <td>...</td>\n      <td>...</td>\n    </tr>\n    <tr>\n      <th>46</th>\n      <td>46</td>\n      <td>4.942944</td>\n      <td>156.418056</td>\n    </tr>\n    <tr>\n      <th>3</th>\n      <td>3</td>\n      <td>3.938588</td>\n      <td>156.476122</td>\n    </tr>\n    <tr>\n      <th>85</th>\n      <td>85</td>\n      <td>7.070411</td>\n      <td>156.536206</td>\n    </tr>\n    <tr>\n      <th>13</th>\n      <td>13</td>\n      <td>8.293747</td>\n      <td>163.986611</td>\n    </tr>\n    <tr>\n      <th>63</th>\n      <td>63</td>\n      <td>5.224053</td>\n      <td>177.990537</td>\n    </tr>\n  </tbody>\n</table>\n<p>100 rows × 3 columns</p>\n</div>"
     },
     "execution_count": 121,
     "metadata": {},
     "output_type": "execute_result"
    }
   ],
   "source": [
    "df_costs"
   ],
   "metadata": {
    "collapsed": false
   }
  },
  {
   "cell_type": "code",
   "execution_count": 122,
   "outputs": [
    {
     "data": {
      "text/plain": "   Instance  Baseline       Model\n67       67  2.793161    3.321004\n97       97  2.826211    3.549987\n34       34  3.118985    3.130238\n12       12  3.022399    3.970113\n20       20  2.334704    3.943777\n..      ...       ...         ...\n46       46  4.942944    5.127675\n3         3  3.938588    2.794953\n85       85  7.070411    3.687986\n13       13  8.293747  164.700592\n63       63  5.224053  178.596405\n\n[100 rows x 3 columns]",
      "text/html": "<div>\n<style scoped>\n    .dataframe tbody tr th:only-of-type {\n        vertical-align: middle;\n    }\n\n    .dataframe tbody tr th {\n        vertical-align: top;\n    }\n\n    .dataframe thead th {\n        text-align: right;\n    }\n</style>\n<table border=\"1\" class=\"dataframe\">\n  <thead>\n    <tr style=\"text-align: right;\">\n      <th></th>\n      <th>Instance</th>\n      <th>Baseline</th>\n      <th>Model</th>\n    </tr>\n  </thead>\n  <tbody>\n    <tr>\n      <th>67</th>\n      <td>67</td>\n      <td>2.793161</td>\n      <td>3.321004</td>\n    </tr>\n    <tr>\n      <th>97</th>\n      <td>97</td>\n      <td>2.826211</td>\n      <td>3.549987</td>\n    </tr>\n    <tr>\n      <th>34</th>\n      <td>34</td>\n      <td>3.118985</td>\n      <td>3.130238</td>\n    </tr>\n    <tr>\n      <th>12</th>\n      <td>12</td>\n      <td>3.022399</td>\n      <td>3.970113</td>\n    </tr>\n    <tr>\n      <th>20</th>\n      <td>20</td>\n      <td>2.334704</td>\n      <td>3.943777</td>\n    </tr>\n    <tr>\n      <th>...</th>\n      <td>...</td>\n      <td>...</td>\n      <td>...</td>\n    </tr>\n    <tr>\n      <th>46</th>\n      <td>46</td>\n      <td>4.942944</td>\n      <td>5.127675</td>\n    </tr>\n    <tr>\n      <th>3</th>\n      <td>3</td>\n      <td>3.938588</td>\n      <td>2.794953</td>\n    </tr>\n    <tr>\n      <th>85</th>\n      <td>85</td>\n      <td>7.070411</td>\n      <td>3.687986</td>\n    </tr>\n    <tr>\n      <th>13</th>\n      <td>13</td>\n      <td>8.293747</td>\n      <td>164.700592</td>\n    </tr>\n    <tr>\n      <th>63</th>\n      <td>63</td>\n      <td>5.224053</td>\n      <td>178.596405</td>\n    </tr>\n  </tbody>\n</table>\n<p>100 rows × 3 columns</p>\n</div>"
     },
     "execution_count": 122,
     "metadata": {},
     "output_type": "execute_result"
    }
   ],
   "source": [
    "df_lengths"
   ],
   "metadata": {
    "collapsed": false
   }
  },
  {
   "cell_type": "code",
   "execution_count": 123,
   "outputs": [
    {
     "data": {
      "text/plain": "   Instance  Baseline  Model\n67       67         7      6\n97       97         7      7\n34       34         6      5\n12       12         9      8\n20       20         6      7\n..      ...       ...    ...\n46       46        12    312\n3         3        14    312\n85       85        12    312\n13       13        21    312\n63       63        14    312\n\n[100 rows x 3 columns]",
      "text/html": "<div>\n<style scoped>\n    .dataframe tbody tr th:only-of-type {\n        vertical-align: middle;\n    }\n\n    .dataframe tbody tr th {\n        vertical-align: top;\n    }\n\n    .dataframe thead th {\n        text-align: right;\n    }\n</style>\n<table border=\"1\" class=\"dataframe\">\n  <thead>\n    <tr style=\"text-align: right;\">\n      <th></th>\n      <th>Instance</th>\n      <th>Baseline</th>\n      <th>Model</th>\n    </tr>\n  </thead>\n  <tbody>\n    <tr>\n      <th>67</th>\n      <td>67</td>\n      <td>7</td>\n      <td>6</td>\n    </tr>\n    <tr>\n      <th>97</th>\n      <td>97</td>\n      <td>7</td>\n      <td>7</td>\n    </tr>\n    <tr>\n      <th>34</th>\n      <td>34</td>\n      <td>6</td>\n      <td>5</td>\n    </tr>\n    <tr>\n      <th>12</th>\n      <td>12</td>\n      <td>9</td>\n      <td>8</td>\n    </tr>\n    <tr>\n      <th>20</th>\n      <td>20</td>\n      <td>6</td>\n      <td>7</td>\n    </tr>\n    <tr>\n      <th>...</th>\n      <td>...</td>\n      <td>...</td>\n      <td>...</td>\n    </tr>\n    <tr>\n      <th>46</th>\n      <td>46</td>\n      <td>12</td>\n      <td>312</td>\n    </tr>\n    <tr>\n      <th>3</th>\n      <td>3</td>\n      <td>14</td>\n      <td>312</td>\n    </tr>\n    <tr>\n      <th>85</th>\n      <td>85</td>\n      <td>12</td>\n      <td>312</td>\n    </tr>\n    <tr>\n      <th>13</th>\n      <td>13</td>\n      <td>21</td>\n      <td>312</td>\n    </tr>\n    <tr>\n      <th>63</th>\n      <td>63</td>\n      <td>14</td>\n      <td>312</td>\n    </tr>\n  </tbody>\n</table>\n<p>100 rows × 3 columns</p>\n</div>"
     },
     "execution_count": 123,
     "metadata": {},
     "output_type": "execute_result"
    }
   ],
   "source": [
    "df_times"
   ],
   "metadata": {
    "collapsed": false
   }
  },
  {
   "cell_type": "code",
   "execution_count": 123,
   "outputs": [],
   "source": [],
   "metadata": {
    "collapsed": false
   }
  }
 ],
 "metadata": {
  "kernelspec": {
   "display_name": "Python 3",
   "language": "python",
   "name": "python3"
  },
  "language_info": {
   "codemirror_mode": {
    "name": "ipython",
    "version": 3
   },
   "file_extension": ".py",
   "mimetype": "text/x-python",
   "name": "python",
   "nbconvert_exporter": "python",
   "pygments_lexer": "ipython3",
   "version": "3.10.12"
  }
 },
 "nbformat": 4,
 "nbformat_minor": 0
}

{
 "cells": [
  {
   "cell_type": "code",
   "execution_count": 1,
   "metadata": {},
   "outputs": [],
   "source": [
    "import os\n",
    "import sys\n",
    "import torch\n",
    "import matplotlib.pyplot as plt\n",
    "from torch.utils.data._utils.collate import default_collate\n",
    "from src.graph.plot_timeline import plot_timeline\n",
    "\n",
    "cwd = os.getcwd()\n",
    "sys.path.append(os.path.dirname(os.path.dirname(cwd)))"
   ]
  },
  {
   "cell_type": "code",
   "execution_count": 2,
   "metadata": {},
   "outputs": [],
   "source": [
    "from torch.utils.data import DataLoader\n",
    "from src.utils import load_model\n",
    "from src.problems import EVRP"
   ]
  },
  {
   "cell_type": "code",
   "execution_count": 3,
   "metadata": {},
   "outputs": [
    {
     "name": "stdout",
     "output_type": "stream",
     "text": [
      "  [*] Loading model from ../../outputs/evrp_4/rollout_20230614T160732/epoch-4.pt\n",
      "  [*] Loading model from ../../outputs/evrp_4/rollout_20230615T123326/epoch-4.pt\n"
     ]
    },
    {
     "data": {
      "text/plain": "AttentionEVRPModel(\n  (init_embed_node): Linear(in_features=5, out_features=128, bias=True)\n  (project_node_embeddings): Linear(in_features=128, out_features=384, bias=False)\n  (project_fixed_context): Linear(in_features=128, out_features=128, bias=False)\n  (encoder): GraphAttentionEncoder(\n    (layers): Sequential(\n      (0): MultiHeadAttentionLayer(\n        (0): SkipConnection(\n          (module): MultiHeadAttention()\n        )\n        (1): Normalization(\n          (normalizer): BatchNorm1d(128, eps=1e-05, momentum=0.1, affine=True, track_running_stats=True)\n        )\n        (2): SkipConnection(\n          (module): Sequential(\n            (0): Linear(in_features=128, out_features=512, bias=True)\n            (1): ReLU()\n            (2): Linear(in_features=512, out_features=128, bias=True)\n          )\n        )\n        (3): Normalization(\n          (normalizer): BatchNorm1d(128, eps=1e-05, momentum=0.1, affine=True, track_running_stats=True)\n        )\n      )\n      (1): MultiHeadAttentionLayer(\n        (0): SkipConnection(\n          (module): MultiHeadAttention()\n        )\n        (1): Normalization(\n          (normalizer): BatchNorm1d(128, eps=1e-05, momentum=0.1, affine=True, track_running_stats=True)\n        )\n        (2): SkipConnection(\n          (module): Sequential(\n            (0): Linear(in_features=128, out_features=512, bias=True)\n            (1): ReLU()\n            (2): Linear(in_features=512, out_features=128, bias=True)\n          )\n        )\n        (3): Normalization(\n          (normalizer): BatchNorm1d(128, eps=1e-05, momentum=0.1, affine=True, track_running_stats=True)\n        )\n      )\n      (2): MultiHeadAttentionLayer(\n        (0): SkipConnection(\n          (module): MultiHeadAttention()\n        )\n        (1): Normalization(\n          (normalizer): BatchNorm1d(128, eps=1e-05, momentum=0.1, affine=True, track_running_stats=True)\n        )\n        (2): SkipConnection(\n          (module): Sequential(\n            (0): Linear(in_features=128, out_features=512, bias=True)\n            (1): ReLU()\n            (2): Linear(in_features=512, out_features=128, bias=True)\n          )\n        )\n        (3): Normalization(\n          (normalizer): BatchNorm1d(128, eps=1e-05, momentum=0.1, affine=True, track_running_stats=True)\n        )\n      )\n    )\n  )\n  (decoder): GraphDecoderEVRP(\n    (project_step_context): Linear(in_features=256, out_features=128, bias=False)\n    (project_out): Linear(in_features=128, out_features=128, bias=False)\n    (FF_trailer): Sequential(\n      (0): Linear(in_features=387, out_features=128, bias=True)\n      (1): Linear(in_features=128, out_features=512, bias=True)\n      (2): ReLU()\n      (3): Linear(in_features=512, out_features=128, bias=True)\n    )\n    (select_trailer): Linear(in_features=128, out_features=3, bias=True)\n    (FF_truck): Sequential(\n      (0): Linear(in_features=6, out_features=128, bias=True)\n      (1): Linear(in_features=128, out_features=512, bias=True)\n      (2): ReLU()\n      (3): Linear(in_features=512, out_features=128, bias=True)\n    )\n    (FF_selected_trailer): Sequential(\n      (0): Linear(in_features=128, out_features=512, bias=True)\n      (1): ReLU()\n      (2): Linear(in_features=512, out_features=128, bias=True)\n    )\n    (select_truck): Linear(in_features=256, out_features=2, bias=True)\n    (project_node_step): Linear(in_features=3, out_features=384, bias=False)\n  )\n)"
     },
     "execution_count": 3,
     "metadata": {},
     "output_type": "execute_result"
    }
   ],
   "source": [
    "# model, _ = load_model('../../outputs/evrp_4/rollout_20230614T160835') # with lots of batches and normal cost\n",
    "model, _ = load_model('../../outputs/evrp_4/rollout_20230614T160732') # with cost and lots of batches\n",
    "model, _ = load_model('../../outputs/evrp_4/rollout_20230615T123326') # new\n",
    "model.eval()  # Put in evaluation mode to not track gradients"
   ]
  },
  {
   "cell_type": "code",
   "execution_count": 4,
   "metadata": {},
   "outputs": [],
   "source": [
    "def collate_fn(batch):\n",
    "    data_batch, graph_batch = zip(*batch)\n",
    "\n",
    "    return default_collate(data_batch), list(graph_batch)\n"
   ]
  },
  {
   "cell_type": "code",
   "execution_count": 5,
   "metadata": {},
   "outputs": [],
   "source": [
    "def tensor_to_tuples(tensor):\n",
    "    batch_size, features, time = tensor.shape\n",
    "    edges = []\n",
    "    for b in range(batch_size):\n",
    "        batch_list = tuple(tensor[b, :, time - 1].tolist())\n",
    "        edges.append([batch_list])\n",
    "\n",
    "    return edges"
   ]
  },
  {
   "cell_type": "code",
   "execution_count": 6,
   "metadata": {},
   "outputs": [],
   "source": [
    "env = EVRP\n",
    "val_dataset = env.make_dataset(\n",
    "        size=4,\n",
    "        num_samples=1,\n",
    "        num_trucks=2,\n",
    "        num_trailers=3,\n",
    "        truck_names=None,\n",
    "    )\n",
    "\n",
    "# Need a dataloader to batch instances\n",
    "dataloader = DataLoader(val_dataset, batch_size=1, collate_fn=collate_fn)\n",
    "\n",
    "# Make var works for dicts\n",
    "batch = next(iter(dataloader))\n"
   ]
  },
  {
   "cell_type": "code",
   "execution_count": 13,
   "metadata": {},
   "outputs": [
    {
     "name": "stdout",
     "output_type": "stream",
     "text": [
      "torch.Size([1, 3, 5])\n",
      "graph_index 0\n"
     ]
    },
    {
     "data": {
      "text/plain": "<Figure size 640x480 with 1 Axes>",
      "image/png": "[encoded data removed]"
     },
     "metadata": {},
     "output_type": "display_data"
    },
    {
     "name": "stdout",
     "output_type": "stream",
     "text": [
      "tensor([1., 2., 0., 1., 0.]) tensor([1, 0, 2])\n"
     ]
    },
    {
     "data": {
      "text/plain": "<Figure size 640x480 with 1 Axes>",
      "image/png": "[encoded data removed]"
     },
     "metadata": {},
     "output_type": "display_data"
    },
    {
     "name": "stdout",
     "output_type": "stream",
     "text": [
      "tensor([3., 1., 1., 0., 1.]) tensor([0, 1, 1])\n"
     ]
    },
    {
     "data": {
      "text/plain": "<Figure size 640x480 with 1 Axes>",
      "image/png": "[encoded data removed]"
     },
     "metadata": {},
     "output_type": "display_data"
    },
    {
     "name": "stdout",
     "output_type": "stream",
     "text": [
      "tensor([ 2.,  0.,  0., -1.,  2.]) tensor([2, 0, 0])\n"
     ]
    },
    {
     "data": {
      "text/plain": "<Figure size 640x480 with 1 Axes>",
      "image/png": "[encoded data removed]"
     },
     "metadata": {},
     "output_type": "display_data"
    },
    {
     "name": "stdout",
     "output_type": "stream",
     "text": [
      "tensor([ 1.,  0.,  1., -1.,  3.]) tensor([2, 1, 0])\n"
     ]
    },
    {
     "data": {
      "text/plain": "<Figure size 640x480 with 1 Axes>",
      "image/png": "[encoded data removed]"
     },
     "metadata": {},
     "output_type": "display_data"
    },
    {
     "name": "stdout",
     "output_type": "stream",
     "text": [
      "tensor([0., 2., 0., 2., 4.]) tensor([2, 0, 2])\n"
     ]
    },
    {
     "data": {
      "text/plain": "<Figure size 640x480 with 1 Axes>",
      "image/png": "[encoded data removed]"
     },
     "metadata": {},
     "output_type": "display_data"
    },
    {
     "name": "stderr",
     "output_type": "stream",
     "text": [
      "/Users/kleiofragkedaki/Desktop/thesis/Master_Thesis/src/graph/plot_timeline.py:36: FutureWarning:\n",
      "\n",
      "The frame.append method is deprecated and will be removed from pandas in a future version. Use pandas.concat instead.\n",
      "\n",
      "/Users/kleiofragkedaki/Desktop/thesis/Master_Thesis/src/graph/plot_timeline.py:36: FutureWarning:\n",
      "\n",
      "The frame.append method is deprecated and will be removed from pandas in a future version. Use pandas.concat instead.\n",
      "\n",
      "/Users/kleiofragkedaki/Desktop/thesis/Master_Thesis/src/graph/plot_timeline.py:36: FutureWarning:\n",
      "\n",
      "The frame.append method is deprecated and will be removed from pandas in a future version. Use pandas.concat instead.\n",
      "\n",
      "/Users/kleiofragkedaki/Desktop/thesis/Master_Thesis/src/graph/plot_timeline.py:36: FutureWarning:\n",
      "\n",
      "The frame.append method is deprecated and will be removed from pandas in a future version. Use pandas.concat instead.\n",
      "\n",
      "/Users/kleiofragkedaki/Desktop/thesis/Master_Thesis/src/graph/plot_timeline.py:36: FutureWarning:\n",
      "\n",
      "The frame.append method is deprecated and will be removed from pandas in a future version. Use pandas.concat instead.\n",
      "\n"
     ]
    },
    {
     "data": {
      "application/vnd.plotly.v1+json": {
       "data": [
        {
         "hoverinfo": "none",
         "line": {
          "color": "rgb(141,211,199)",
          "width": 20
         },
         "mode": "lines",
         "name": "Truck 0",
         "showlegend": false,
         "x": [
          "1970-01-01T00:00:00",
          "1970-01-01T01:00:00"
         ],
         "y": [
          "Truck 0",
          "Truck 0"
         ],
         "type": "scatter"
        },
        {
         "hoverinfo": "none",
         "line": {
          "color": "rgb(190,186,218)",
          "width": 20
         },
         "mode": "lines",
         "name": "Truck 0",
         "showlegend": false,
         "x": [
          "1970-01-01T02:00:00",
          "1970-01-01T03:00:00"
         ],
         "y": [
          "Truck 0",
          "Truck 0"
         ],
         "type": "scatter"
        },
        {
         "hoverinfo": "none",
         "line": {
          "color": "rgb(251,128,114)",
          "width": 20
         },
         "mode": "lines",
         "name": "Truck 0",
         "showlegend": false,
         "x": [
          "1970-01-01T04:00:00",
          "1970-01-01T05:00:00"
         ],
         "y": [
          "Truck 0",
          "Truck 0"
         ],
         "type": "scatter"
        },
        {
         "hoverinfo": "none",
         "line": {
          "color": "rgb(255,255,179)",
          "width": 20
         },
         "mode": "lines",
         "name": "Truck 1",
         "showlegend": false,
         "x": [
          "1970-01-01T01:00:00",
          "1970-01-01T02:00:00"
         ],
         "y": [
          "Truck 1",
          "Truck 1"
         ],
         "type": "scatter"
        },
        {
         "hoverinfo": "none",
         "line": {
          "color": "rgb(190,186,218)",
          "width": 20
         },
         "mode": "lines",
         "name": "Truck 1",
         "showlegend": false,
         "x": [
          "1970-01-01T03:00:00",
          "1970-01-01T04:00:00"
         ],
         "y": [
          "Truck 1",
          "Truck 1"
         ],
         "type": "scatter"
        },
        {
         "legendgroup": "Trailer 1",
         "marker": {
          "color": "rgb(141,211,199)"
         },
         "mode": "markers",
         "name": "Trailer 1",
         "x": [
          null
         ],
         "y": [
          null
         ],
         "type": "scatter"
        },
        {
         "legendgroup": "Trailer 0",
         "marker": {
          "color": "rgb(255,255,179)"
         },
         "mode": "markers",
         "name": "Trailer 0",
         "x": [
          null
         ],
         "y": [
          null
         ],
         "type": "scatter"
        },
        {
         "legendgroup": "Trailer None",
         "marker": {
          "color": "rgb(190,186,218)"
         },
         "mode": "markers",
         "name": "Trailer None",
         "x": [
          null
         ],
         "y": [
          null
         ],
         "type": "scatter"
        },
        {
         "legendgroup": "Trailer 2",
         "marker": {
          "color": "rgb(251,128,114)"
         },
         "mode": "markers",
         "name": "Trailer 2",
         "x": [
          null
         ],
         "y": [
          null
         ],
         "type": "scatter"
        }
       ],
       "layout": {
        "template": {
         "data": {
          "histogram2dcontour": [
           {
            "type": "histogram2dcontour",
            "colorbar": {
             "outlinewidth": 0,
             "ticks": ""
            },
            "colorscale": [
             [
              0.0,
              "#0d0887"
             ],
             [
              0.1111111111111111,
              "#46039f"
             ],
             [
              0.2222222222222222,
              "#7201a8"
             ],
             [
              0.3333333333333333,
              "#9c179e"
             ],
             [
              0.4444444444444444,
              "#bd3786"
             ],
             [
              0.5555555555555556,
              "#d8576b"
             ],
             [
              0.6666666666666666,
              "#ed7953"
             ],
             [
              0.7777777777777778,
              "#fb9f3a"
             ],
             [
              0.8888888888888888,
              "#fdca26"
             ],
             [
              1.0,
              "#f0f921"
             ]
            ]
           }
          ],
          "choropleth": [
           {
            "type": "choropleth",
            "colorbar": {
             "outlinewidth": 0,
             "ticks": ""
            }
           }
          ],
          "histogram2d": [
           {
            "type": "histogram2d",
            "colorbar": {
             "outlinewidth": 0,
             "ticks": ""
            },
            "colorscale": [
             [
              0.0,
              "#0d0887"
             ],
             [
              0.1111111111111111,
              "#46039f"
             ],
             [
              0.2222222222222222,
              "#7201a8"
             ],
             [
              0.3333333333333333,
              "#9c179e"
             ],
             [
              0.4444444444444444,
              "#bd3786"
             ],
             [
              0.5555555555555556,
              "#d8576b"
             ],
             [
              0.6666666666666666,
              "#ed7953"
             ],
             [
              0.7777777777777778,
              "#fb9f3a"
             ],
             [
              0.8888888888888888,
              "#fdca26"
             ],
             [
              1.0,
              "#f0f921"
             ]
            ]
           }
          ],
          "heatmap": [
           {
            "type": "heatmap",
            "colorbar": {
             "outlinewidth": 0,
             "ticks": ""
            },
            "colorscale": [
             [
              0.0,
              "#0d0887"
             ],
             [
              0.1111111111111111,
              "#46039f"
             ],
             [
              0.2222222222222222,
              "#7201a8"
             ],
             [
              0.3333333333333333,
              "#9c179e"
             ],
             [
              0.4444444444444444,
              "#bd3786"
             ],
             [
              0.5555555555555556,
              "#d8576b"
             ],
             [
              0.6666666666666666,
              "#ed7953"
             ],
             [
              0.7777777777777778,
              "#fb9f3a"
             ],
             [
              0.8888888888888888,
              "#fdca26"
             ],
             [
              1.0,
              "#f0f921"
             ]
            ]
           }
          ],
          "heatmapgl": [
           {
            "type": "heatmapgl",
            "colorbar": {
             "outlinewidth": 0,
             "ticks": ""
            },
            "colorscale": [
             [
              0.0,
              "#0d0887"
             ],
             [
              0.1111111111111111,
              "#46039f"
             ],
             [
              0.2222222222222222,
              "#7201a8"
             ],
             [
              0.3333333333333333,
              "#9c179e"
             ],
             [
              0.4444444444444444,
              "#bd3786"
             ],
             [
              0.5555555555555556,
              "#d8576b"
             ],
             [
              0.6666666666666666,
              "#ed7953"
             ],
             [
              0.7777777777777778,
              "#fb9f3a"
             ],
             [
              0.8888888888888888,
              "#fdca26"
             ],
             [
              1.0,
              "#f0f921"
             ]
            ]
           }
          ],
          "contourcarpet": [
           {
            "type": "contourcarpet",
            "colorbar": {
             "outlinewidth": 0,
             "ticks": ""
            }
           }
          ],
          "contour": [
           {
            "type": "contour",
            "colorbar": {
             "outlinewidth": 0,
             "ticks": ""
            },
            "colorscale": [
             [
              0.0,
              "#0d0887"
             ],
             [
              0.1111111111111111,
              "#46039f"
             ],
             [
              0.2222222222222222,
              "#7201a8"
             ],
             [
              0.3333333333333333,
              "#9c179e"
             ],
             [
              0.4444444444444444,
              "#bd3786"
             ],
             [
              0.5555555555555556,
              "#d8576b"
             ],
             [
              0.6666666666666666,
              "#ed7953"
             ],
             [
              0.7777777777777778,
              "#fb9f3a"
             ],
             [
              0.8888888888888888,
              "#fdca26"
             ],
             [
              1.0,
              "#f0f921"
             ]
            ]
           }
          ],
          "surface": [
           {
            "type": "surface",
            "colorbar": {
             "outlinewidth": 0,
             "ticks": ""
            },
            "colorscale": [
             [
              0.0,
              "#0d0887"
             ],
             [
              0.1111111111111111,
              "#46039f"
             ],
             [
              0.2222222222222222,
              "#7201a8"
             ],
             [
              0.3333333333333333,
              "#9c179e"
             ],
             [
              0.4444444444444444,
              "#bd3786"
             ],
             [
              0.5555555555555556,
              "#d8576b"
             ],
             [
              0.6666666666666666,
              "#ed7953"
             ],
             [
              0.7777777777777778,
              "#fb9f3a"
             ],
             [
              0.8888888888888888,
              "#fdca26"
             ],
             [
              1.0,
              "#f0f921"
             ]
            ]
           }
          ],
          "mesh3d": [
           {
            "type": "mesh3d",
            "colorbar": {
             "outlinewidth": 0,
             "ticks": ""
            }
           }
          ],
          "scatter": [
           {
            "fillpattern": {
             "fillmode": "overlay",
             "size": 10,
             "solidity": 0.2
            },
            "type": "scatter"
           }
          ],
          "parcoords": [
           {
            "type": "parcoords",
            "line": {
             "colorbar": {
              "outlinewidth": 0,
              "ticks": ""
             }
            }
           }
          ],
          "scatterpolargl": [
           {
            "type": "scatterpolargl",
            "marker": {
             "colorbar": {
              "outlinewidth": 0,
              "ticks": ""
             }
            }
           }
          ],
          "bar": [
           {
            "error_x": {
             "color": "#2a3f5f"
            },
            "error_y": {
             "color": "#2a3f5f"
            },
            "marker": {
             "line": {
              "color": "#E5ECF6",
              "width": 0.5
             },
             "pattern": {
              "fillmode": "overlay",
              "size": 10,
              "solidity": 0.2
             }
            },
            "type": "bar"
           }
          ],
          "scattergeo": [
           {
            "type": "scattergeo",
            "marker": {
             "colorbar": {
              "outlinewidth": 0,
              "ticks": ""
             }
            }
           }
          ],
          "scatterpolar": [
           {
            "type": "scatterpolar",
            "marker": {
             "colorbar": {
              "outlinewidth": 0,
              "ticks": ""
             }
            }
           }
          ],
          "histogram": [
           {
            "marker": {
             "pattern": {
              "fillmode": "overlay",
              "size": 10,
              "solidity": 0.2
             }
            },
            "type": "histogram"
           }
          ],
          "scattergl": [
           {
            "type": "scattergl",
            "marker": {
             "colorbar": {
              "outlinewidth": 0,
              "ticks": ""
             }
            }
           }
          ],
          "scatter3d": [
           {
            "type": "scatter3d",
            "line": {
             "colorbar": {
              "outlinewidth": 0,
              "ticks": ""
             }
            },
            "marker": {
             "colorbar": {
              "outlinewidth": 0,
              "ticks": ""
             }
            }
           }
          ],
          "scattermapbox": [
           {
            "type": "scattermapbox",
            "marker": {
             "colorbar": {
              "outlinewidth": 0,
              "ticks": ""
             }
            }
           }
          ],
          "scatterternary": [
           {
            "type": "scatterternary",
            "marker": {
             "colorbar": {
              "outlinewidth": 0,
              "ticks": ""
             }
            }
           }
          ],
          "scattercarpet": [
           {
            "type": "scattercarpet",
            "marker": {
             "colorbar": {
              "outlinewidth": 0,
              "ticks": ""
             }
            }
           }
          ],
          "carpet": [
           {
            "aaxis": {
             "endlinecolor": "#2a3f5f",
             "gridcolor": "white",
             "linecolor": "white",
             "minorgridcolor": "white",
             "startlinecolor": "#2a3f5f"
            },
            "baxis": {
             "endlinecolor": "#2a3f5f",
             "gridcolor": "white",
             "linecolor": "white",
             "minorgridcolor": "white",
             "startlinecolor": "#2a3f5f"
            },
            "type": "carpet"
           }
          ],
          "table": [
           {
            "cells": {
             "fill": {
              "color": "#EBF0F8"
             },
             "line": {
              "color": "white"
             }
            },
            "header": {
             "fill": {
              "color": "#C8D4E3"
             },
             "line": {
              "color": "white"
             }
            },
            "type": "table"
           }
          ],
          "barpolar": [
           {
            "marker": {
             "line": {
              "color": "#E5ECF6",
              "width": 0.5
             },
             "pattern": {
              "fillmode": "overlay",
              "size": 10,
              "solidity": 0.2
             }
            },
            "type": "barpolar"
           }
          ],
          "pie": [
           {
            "automargin": true,
            "type": "pie"
           }
          ]
         },
         "layout": {
          "autotypenumbers": "strict",
          "colorway": [
           "#636efa",
           "#EF553B",
           "#00cc96",
           "#ab63fa",
           "#FFA15A",
           "#19d3f3",
           "#FF6692",
           "#B6E880",
           "#FF97FF",
           "#FECB52"
          ],
          "font": {
           "color": "#2a3f5f"
          },
          "hovermode": "closest",
          "hoverlabel": {
           "align": "left"
          },
          "paper_bgcolor": "white",
          "plot_bgcolor": "#E5ECF6",
          "polar": {
           "bgcolor": "#E5ECF6",
           "angularaxis": {
            "gridcolor": "white",
            "linecolor": "white",
            "ticks": ""
           },
           "radialaxis": {
            "gridcolor": "white",
            "linecolor": "white",
            "ticks": ""
           }
          },
          "ternary": {
           "bgcolor": "#E5ECF6",
           "aaxis": {
            "gridcolor": "white",
            "linecolor": "white",
            "ticks": ""
           },
           "baxis": {
            "gridcolor": "white",
            "linecolor": "white",
            "ticks": ""
           },
           "caxis": {
            "gridcolor": "white",
            "linecolor": "white",
            "ticks": ""
           }
          },
          "coloraxis": {
           "colorbar": {
            "outlinewidth": 0,
            "ticks": ""
           }
          },
          "colorscale": {
           "sequential": [
            [
             0.0,
             "#0d0887"
            ],
            [
             0.1111111111111111,
             "#46039f"
            ],
            [
             0.2222222222222222,
             "#7201a8"
            ],
            [
             0.3333333333333333,
             "#9c179e"
            ],
            [
             0.4444444444444444,
             "#bd3786"
            ],
            [
             0.5555555555555556,
             "#d8576b"
            ],
            [
             0.6666666666666666,
             "#ed7953"
            ],
            [
             0.7777777777777778,
             "#fb9f3a"
            ],
            [
             0.8888888888888888,
             "#fdca26"
            ],
            [
             1.0,
             "#f0f921"
            ]
           ],
           "sequentialminus": [
            [
             0.0,
             "#0d0887"
            ],
            [
             0.1111111111111111,
             "#46039f"
            ],
            [
             0.2222222222222222,
             "#7201a8"
            ],
            [
             0.3333333333333333,
             "#9c179e"
            ],
            [
             0.4444444444444444,
             "#bd3786"
            ],
            [
             0.5555555555555556,
             "#d8576b"
            ],
            [
             0.6666666666666666,
             "#ed7953"
            ],
            [
             0.7777777777777778,
             "#fb9f3a"
            ],
            [
             0.8888888888888888,
             "#fdca26"
            ],
            [
             1.0,
             "#f0f921"
            ]
           ],
           "diverging": [
            [
             0,
             "#8e0152"
            ],
            [
             0.1,
             "#c51b7d"
            ],
            [
             0.2,
             "#de77ae"
            ],
            [
             0.3,
             "#f1b6da"
            ],
            [
             0.4,
             "#fde0ef"
            ],
            [
             0.5,
             "#f7f7f7"
            ],
            [
             0.6,
             "#e6f5d0"
            ],
            [
             0.7,
             "#b8e186"
            ],
            [
             0.8,
             "#7fbc41"
            ],
            [
             0.9,
             "#4d9221"
            ],
            [
             1,
             "#276419"
            ]
           ]
          },
          "xaxis": {
           "gridcolor": "white",
           "linecolor": "white",
           "ticks": "",
           "title": {
            "standoff": 15
           },
           "zerolinecolor": "white",
           "automargin": true,
           "zerolinewidth": 2
          },
          "yaxis": {
           "gridcolor": "white",
           "linecolor": "white",
           "ticks": "",
           "title": {
            "standoff": 15
           },
           "zerolinecolor": "white",
           "automargin": true,
           "zerolinewidth": 2
          },
          "scene": {
           "xaxis": {
            "backgroundcolor": "#E5ECF6",
            "gridcolor": "white",
            "linecolor": "white",
            "showbackground": true,
            "ticks": "",
            "zerolinecolor": "white",
            "gridwidth": 2
           },
           "yaxis": {
            "backgroundcolor": "#E5ECF6",
            "gridcolor": "white",
            "linecolor": "white",
            "showbackground": true,
            "ticks": "",
            "zerolinecolor": "white",
            "gridwidth": 2
           },
           "zaxis": {
            "backgroundcolor": "#E5ECF6",
            "gridcolor": "white",
            "linecolor": "white",
            "showbackground": true,
            "ticks": "",
            "zerolinecolor": "white",
            "gridwidth": 2
           }
          },
          "shapedefaults": {
           "line": {
            "color": "#2a3f5f"
           }
          },
          "annotationdefaults": {
           "arrowcolor": "#2a3f5f",
           "arrowhead": 0,
           "arrowwidth": 1
          },
          "geo": {
           "bgcolor": "white",
           "landcolor": "#E5ECF6",
           "subunitcolor": "white",
           "showland": true,
           "showlakes": true,
           "lakecolor": "white"
          },
          "title": {
           "x": 0.05
          },
          "mapbox": {
           "style": "light"
          }
         }
        },
        "annotations": [
         {
          "align": "center",
          "arrowhead": 2,
          "arrowsize": 1.5,
          "arrowwidth": 1.5,
          "ax": 20,
          "ay": 0,
          "font": {
           "size": 8
          },
          "showarrow": false,
          "text": "Node 1",
          "valign": "bottom",
          "x": "1970-01-01T00:00:00",
          "xref": "x",
          "y": "Truck 0",
          "yref": "y"
         },
         {
          "align": "center",
          "arrowhead": 2,
          "arrowsize": 1.5,
          "arrowwidth": 1.5,
          "ax": -20,
          "ay": 0,
          "font": {
           "size": 8
          },
          "showarrow": false,
          "text": "Node 2",
          "valign": "bottom",
          "x": "1970-01-01T01:00:00",
          "xref": "x",
          "y": "Truck 0",
          "yref": "y"
         },
         {
          "align": "center",
          "arrowhead": 2,
          "arrowsize": 1.5,
          "arrowwidth": 1.5,
          "ax": 20,
          "ay": 0,
          "font": {
           "size": 8
          },
          "showarrow": false,
          "text": "Node 2",
          "valign": "bottom",
          "x": "1970-01-01T02:00:00",
          "xref": "x",
          "y": "Truck 0",
          "yref": "y"
         },
         {
          "align": "center",
          "arrowhead": 2,
          "arrowsize": 1.5,
          "arrowwidth": 1.5,
          "ax": -20,
          "ay": 0,
          "font": {
           "size": 8
          },
          "showarrow": false,
          "text": "Node 0",
          "valign": "bottom",
          "x": "1970-01-01T03:00:00",
          "xref": "x",
          "y": "Truck 0",
          "yref": "y"
         },
         {
          "align": "center",
          "arrowhead": 2,
          "arrowsize": 1.5,
          "arrowwidth": 1.5,
          "ax": 20,
          "ay": 0,
          "font": {
           "size": 8
          },
          "showarrow": false,
          "text": "Node 0",
          "valign": "bottom",
          "x": "1970-01-01T04:00:00",
          "xref": "x",
          "y": "Truck 0",
          "yref": "y"
         },
         {
          "align": "center",
          "arrowhead": 2,
          "arrowsize": 1.5,
          "arrowwidth": 1.5,
          "ax": -20,
          "ay": 0,
          "font": {
           "size": 8
          },
          "showarrow": false,
          "text": "Node 2",
          "valign": "bottom",
          "x": "1970-01-01T05:00:00",
          "xref": "x",
          "y": "Truck 0",
          "yref": "y"
         },
         {
          "align": "center",
          "arrowhead": 2,
          "arrowsize": 1.5,
          "arrowwidth": 1.5,
          "ax": 20,
          "ay": 0,
          "font": {
           "size": 8
          },
          "showarrow": false,
          "text": "Node 3",
          "valign": "bottom",
          "x": "1970-01-01T01:00:00",
          "xref": "x",
          "y": "Truck 1",
          "yref": "y"
         },
         {
          "align": "center",
          "arrowhead": 2,
          "arrowsize": 1.5,
          "arrowwidth": 1.5,
          "ax": -20,
          "ay": 0,
          "font": {
           "size": 8
          },
          "showarrow": false,
          "text": "Node 1",
          "valign": "bottom",
          "x": "1970-01-01T02:00:00",
          "xref": "x",
          "y": "Truck 1",
          "yref": "y"
         },
         {
          "align": "center",
          "arrowhead": 2,
          "arrowsize": 1.5,
          "arrowwidth": 1.5,
          "ax": 20,
          "ay": 0,
          "font": {
           "size": 8
          },
          "showarrow": false,
          "text": "Node 1",
          "valign": "bottom",
          "x": "1970-01-01T03:00:00",
          "xref": "x",
          "y": "Truck 1",
          "yref": "y"
         },
         {
          "align": "center",
          "arrowhead": 2,
          "arrowsize": 1.5,
          "arrowwidth": 1.5,
          "ax": -20,
          "ay": 0,
          "font": {
           "size": 8
          },
          "showarrow": false,
          "text": "Node 0",
          "valign": "bottom",
          "x": "1970-01-01T04:00:00",
          "xref": "x",
          "y": "Truck 1",
          "yref": "y"
         }
        ],
        "legend": {
         "traceorder": "reversed"
        },
        "showlegend": true,
        "xaxis": {
         "showticklabels": false
        },
        "yaxis": {
         "autorange": "reversed"
        }
       },
       "config": {
        "plotlyServerURL": "https://plot.ly"
       }
      },
      "text/html": "<div>                            <div id=\"c78d10cc-635a-4993-9e64-29700b926916\" class=\"plotly-graph-div\" style=\"height:525px; width:100%;\"></div>            <script type=\"text/javascript\">                require([\"plotly\"], function(Plotly) {                    window.PLOTLYENV=window.PLOTLYENV || {};                                    if (document.getElementById(\"c78d10cc-635a-4993-9e64-29700b926916\")) {                    Plotly.newPlot(                        \"c78d10cc-635a-4993-9e64-29700b926916\",                        [{\"hoverinfo\":\"none\",\"line\":{\"color\":\"rgb(141,211,199)\",\"width\":20},\"mode\":\"lines\",\"name\":\"Truck 0\",\"showlegend\":false,\"x\":[\"1970-01-01T00:00:00\",\"1970-01-01T01:00:00\"],\"y\":[\"Truck 0\",\"Truck 0\"],\"type\":\"scatter\"},{\"hoverinfo\":\"none\",\"line\":{\"color\":\"rgb(190,186,218)\",\"width\":20},\"mode\":\"lines\",\"name\":\"Truck 0\",\"showlegend\":false,\"x\":[\"1970-01-01T02:00:00\",\"1970-01-01T03:00:00\"],\"y\":[\"Truck 0\",\"Truck 0\"],\"type\":\"scatter\"},{\"hoverinfo\":\"none\",\"line\":{\"color\":\"rgb(251,128,114)\",\"width\":20},\"mode\":\"lines\",\"name\":\"Truck 0\",\"showlegend\":false,\"x\":[\"1970-01-01T04:00:00\",\"1970-01-01T05:00:00\"],\"y\":[\"Truck 0\",\"Truck 0\"],\"type\":\"scatter\"},{\"hoverinfo\":\"none\",\"line\":{\"color\":\"rgb(255,255,179)\",\"width\":20},\"mode\":\"lines\",\"name\":\"Truck 1\",\"showlegend\":false,\"x\":[\"1970-01-01T01:00:00\",\"1970-01-01T02:00:00\"],\"y\":[\"Truck 1\",\"Truck 1\"],\"type\":\"scatter\"},{\"hoverinfo\":\"none\",\"line\":{\"color\":\"rgb(190,186,218)\",\"width\":20},\"mode\":\"lines\",\"name\":\"Truck 1\",\"showlegend\":false,\"x\":[\"1970-01-01T03:00:00\",\"1970-01-01T04:00:00\"],\"y\":[\"Truck 1\",\"Truck 1\"],\"type\":\"scatter\"},{\"legendgroup\":\"Trailer 1\",\"marker\":{\"color\":\"rgb(141,211,199)\"},\"mode\":\"markers\",\"name\":\"Trailer 1\",\"x\":[null],\"y\":[null],\"type\":\"scatter\"},{\"legendgroup\":\"Trailer 0\",\"marker\":{\"color\":\"rgb(255,255,179)\"},\"mode\":\"markers\",\"name\":\"Trailer 0\",\"x\":[null],\"y\":[null],\"type\":\"scatter\"},{\"legendgroup\":\"Trailer None\",\"marker\":{\"color\":\"rgb(190,186,218)\"},\"mode\":\"markers\",\"name\":\"Trailer None\",\"x\":[null],\"y\":[null],\"type\":\"scatter\"},{\"legendgroup\":\"Trailer 2\",\"marker\":{\"color\":\"rgb(251,128,114)\"},\"mode\":\"markers\",\"name\":\"Trailer 2\",\"x\":[null],\"y\":[null],\"type\":\"scatter\"}],                        {\"template\":{\"data\":{\"histogram2dcontour\":[{\"type\":\"histogram2dcontour\",\"colorbar\":{\"outlinewidth\":0,\"ticks\":\"\"},\"colorscale\":[[0.0,\"#0d0887\"],[0.1111111111111111,\"#46039f\"],[0.2222222222222222,\"#7201a8\"],[0.3333333333333333,\"#9c179e\"],[0.4444444444444444,\"#bd3786\"],[0.5555555555555556,\"#d8576b\"],[0.6666666666666666,\"#ed7953\"],[0.7777777777777778,\"#fb9f3a\"],[0.8888888888888888,\"#fdca26\"],[1.0,\"#f0f921\"]]}],\"choropleth\":[{\"type\":\"choropleth\",\"colorbar\":{\"outlinewidth\":0,\"ticks\":\"\"}}],\"histogram2d\":[{\"type\":\"histogram2d\",\"colorbar\":{\"outlinewidth\":0,\"ticks\":\"\"},\"colorscale\":[[0.0,\"#0d0887\"],[0.1111111111111111,\"#46039f\"],[0.2222222222222222,\"#7201a8\"],[0.3333333333333333,\"#9c179e\"],[0.4444444444444444,\"#bd3786\"],[0.5555555555555556,\"#d8576b\"],[0.6666666666666666,\"#ed7953\"],[0.7777777777777778,\"#fb9f3a\"],[0.8888888888888888,\"#fdca26\"],[1.0,\"#f0f921\"]]}],\"heatmap\":[{\"type\":\"heatmap\",\"colorbar\":{\"outlinewidth\":0,\"ticks\":\"\"},\"colorscale\":[[0.0,\"#0d0887\"],[0.1111111111111111,\"#46039f\"],[0.2222222222222222,\"#7201a8\"],[0.3333333333333333,\"#9c179e\"],[0.4444444444444444,\"#bd3786\"],[0.5555555555555556,\"#d8576b\"],[0.6666666666666666,\"#ed7953\"],[0.7777777777777778,\"#fb9f3a\"],[0.8888888888888888,\"#fdca26\"],[1.0,\"#f0f921\"]]}],\"heatmapgl\":[{\"type\":\"heatmapgl\",\"colorbar\":{\"outlinewidth\":0,\"ticks\":\"\"},\"colorscale\":[[0.0,\"#0d0887\"],[0.1111111111111111,\"#46039f\"],[0.2222222222222222,\"#7201a8\"],[0.3333333333333333,\"#9c179e\"],[0.4444444444444444,\"#bd3786\"],[0.5555555555555556,\"#d8576b\"],[0.6666666666666666,\"#ed7953\"],[0.7777777777777778,\"#fb9f3a\"],[0.8888888888888888,\"#fdca26\"],[1.0,\"#f0f921\"]]}],\"contourcarpet\":[{\"type\":\"contourcarpet\",\"colorbar\":{\"outlinewidth\":0,\"ticks\":\"\"}}],\"contour\":[{\"type\":\"contour\",\"colorbar\":{\"outlinewidth\":0,\"ticks\":\"\"},\"colorscale\":[[0.0,\"#0d0887\"],[0.1111111111111111,\"#46039f\"],[0.2222222222222222,\"#7201a8\"],[0.3333333333333333,\"#9c179e\"],[0.4444444444444444,\"#bd3786\"],[0.5555555555555556,\"#d8576b\"],[0.6666666666666666,\"#ed7953\"],[0.7777777777777778,\"#fb9f3a\"],[0.8888888888888888,\"#fdca26\"],[1.0,\"#f0f921\"]]}],\"surface\":[{\"type\":\"surface\",\"colorbar\":{\"outlinewidth\":0,\"ticks\":\"\"},\"colorscale\":[[0.0,\"#0d0887\"],[0.1111111111111111,\"#46039f\"],[0.2222222222222222,\"#7201a8\"],[0.3333333333333333,\"#9c179e\"],[0.4444444444444444,\"#bd3786\"],[0.5555555555555556,\"#d8576b\"],[0.6666666666666666,\"#ed7953\"],[0.7777777777777778,\"#fb9f3a\"],[0.8888888888888888,\"#fdca26\"],[1.0,\"#f0f921\"]]}],\"mesh3d\":[{\"type\":\"mesh3d\",\"colorbar\":{\"outlinewidth\":0,\"ticks\":\"\"}}],\"scatter\":[{\"fillpattern\":{\"fillmode\":\"overlay\",\"size\":10,\"solidity\":0.2},\"type\":\"scatter\"}],\"parcoords\":[{\"type\":\"parcoords\",\"line\":{\"colorbar\":{\"outlinewidth\":0,\"ticks\":\"\"}}}],\"scatterpolargl\":[{\"type\":\"scatterpolargl\",\"marker\":{\"colorbar\":{\"outlinewidth\":0,\"ticks\":\"\"}}}],\"bar\":[{\"error_x\":{\"color\":\"#2a3f5f\"},\"error_y\":{\"color\":\"#2a3f5f\"},\"marker\":{\"line\":{\"color\":\"#E5ECF6\",\"width\":0.5},\"pattern\":{\"fillmode\":\"overlay\",\"size\":10,\"solidity\":0.2}},\"type\":\"bar\"}],\"scattergeo\":[{\"type\":\"scattergeo\",\"marker\":{\"colorbar\":{\"outlinewidth\":0,\"ticks\":\"\"}}}],\"scatterpolar\":[{\"type\":\"scatterpolar\",\"marker\":{\"colorbar\":{\"outlinewidth\":0,\"ticks\":\"\"}}}],\"histogram\":[{\"marker\":{\"pattern\":{\"fillmode\":\"overlay\",\"size\":10,\"solidity\":0.2}},\"type\":\"histogram\"}],\"scattergl\":[{\"type\":\"scattergl\",\"marker\":{\"colorbar\":{\"outlinewidth\":0,\"ticks\":\"\"}}}],\"scatter3d\":[{\"type\":\"scatter3d\",\"line\":{\"colorbar\":{\"outlinewidth\":0,\"ticks\":\"\"}},\"marker\":{\"colorbar\":{\"outlinewidth\":0,\"ticks\":\"\"}}}],\"scattermapbox\":[{\"type\":\"scattermapbox\",\"marker\":{\"colorbar\":{\"outlinewidth\":0,\"ticks\":\"\"}}}],\"scatterternary\":[{\"type\":\"scatterternary\",\"marker\":{\"colorbar\":{\"outlinewidth\":0,\"ticks\":\"\"}}}],\"scattercarpet\":[{\"type\":\"scattercarpet\",\"marker\":{\"colorbar\":{\"outlinewidth\":0,\"ticks\":\"\"}}}],\"carpet\":[{\"aaxis\":{\"endlinecolor\":\"#2a3f5f\",\"gridcolor\":\"white\",\"linecolor\":\"white\",\"minorgridcolor\":\"white\",\"startlinecolor\":\"#2a3f5f\"},\"baxis\":{\"endlinecolor\":\"#2a3f5f\",\"gridcolor\":\"white\",\"linecolor\":\"white\",\"minorgridcolor\":\"white\",\"startlinecolor\":\"#2a3f5f\"},\"type\":\"carpet\"}],\"table\":[{\"cells\":{\"fill\":{\"color\":\"#EBF0F8\"},\"line\":{\"color\":\"white\"}},\"header\":{\"fill\":{\"color\":\"#C8D4E3\"},\"line\":{\"color\":\"white\"}},\"type\":\"table\"}],\"barpolar\":[{\"marker\":{\"line\":{\"color\":\"#E5ECF6\",\"width\":0.5},\"pattern\":{\"fillmode\":\"overlay\",\"size\":10,\"solidity\":0.2}},\"type\":\"barpolar\"}],\"pie\":[{\"automargin\":true,\"type\":\"pie\"}]},\"layout\":{\"autotypenumbers\":\"strict\",\"colorway\":[\"#636efa\",\"#EF553B\",\"#00cc96\",\"#ab63fa\",\"#FFA15A\",\"#19d3f3\",\"#FF6692\",\"#B6E880\",\"#FF97FF\",\"#FECB52\"],\"font\":{\"color\":\"#2a3f5f\"},\"hovermode\":\"closest\",\"hoverlabel\":{\"align\":\"left\"},\"paper_bgcolor\":\"white\",\"plot_bgcolor\":\"#E5ECF6\",\"polar\":{\"bgcolor\":\"#E5ECF6\",\"angularaxis\":{\"gridcolor\":\"white\",\"linecolor\":\"white\",\"ticks\":\"\"},\"radialaxis\":{\"gridcolor\":\"white\",\"linecolor\":\"white\",\"ticks\":\"\"}},\"ternary\":{\"bgcolor\":\"#E5ECF6\",\"aaxis\":{\"gridcolor\":\"white\",\"linecolor\":\"white\",\"ticks\":\"\"},\"baxis\":{\"gridcolor\":\"white\",\"linecolor\":\"white\",\"ticks\":\"\"},\"caxis\":{\"gridcolor\":\"white\",\"linecolor\":\"white\",\"ticks\":\"\"}},\"coloraxis\":{\"colorbar\":{\"outlinewidth\":0,\"ticks\":\"\"}},\"colorscale\":{\"sequential\":[[0.0,\"#0d0887\"],[0.1111111111111111,\"#46039f\"],[0.2222222222222222,\"#7201a8\"],[0.3333333333333333,\"#9c179e\"],[0.4444444444444444,\"#bd3786\"],[0.5555555555555556,\"#d8576b\"],[0.6666666666666666,\"#ed7953\"],[0.7777777777777778,\"#fb9f3a\"],[0.8888888888888888,\"#fdca26\"],[1.0,\"#f0f921\"]],\"sequentialminus\":[[0.0,\"#0d0887\"],[0.1111111111111111,\"#46039f\"],[0.2222222222222222,\"#7201a8\"],[0.3333333333333333,\"#9c179e\"],[0.4444444444444444,\"#bd3786\"],[0.5555555555555556,\"#d8576b\"],[0.6666666666666666,\"#ed7953\"],[0.7777777777777778,\"#fb9f3a\"],[0.8888888888888888,\"#fdca26\"],[1.0,\"#f0f921\"]],\"diverging\":[[0,\"#8e0152\"],[0.1,\"#c51b7d\"],[0.2,\"#de77ae\"],[0.3,\"#f1b6da\"],[0.4,\"#fde0ef\"],[0.5,\"#f7f7f7\"],[0.6,\"#e6f5d0\"],[0.7,\"#b8e186\"],[0.8,\"#7fbc41\"],[0.9,\"#4d9221\"],[1,\"#276419\"]]},\"xaxis\":{\"gridcolor\":\"white\",\"linecolor\":\"white\",\"ticks\":\"\",\"title\":{\"standoff\":15},\"zerolinecolor\":\"white\",\"automargin\":true,\"zerolinewidth\":2},\"yaxis\":{\"gridcolor\":\"white\",\"linecolor\":\"white\",\"ticks\":\"\",\"title\":{\"standoff\":15},\"zerolinecolor\":\"white\",\"automargin\":true,\"zerolinewidth\":2},\"scene\":{\"xaxis\":{\"backgroundcolor\":\"#E5ECF6\",\"gridcolor\":\"white\",\"linecolor\":\"white\",\"showbackground\":true,\"ticks\":\"\",\"zerolinecolor\":\"white\",\"gridwidth\":2},\"yaxis\":{\"backgroundcolor\":\"#E5ECF6\",\"gridcolor\":\"white\",\"linecolor\":\"white\",\"showbackground\":true,\"ticks\":\"\",\"zerolinecolor\":\"white\",\"gridwidth\":2},\"zaxis\":{\"backgroundcolor\":\"#E5ECF6\",\"gridcolor\":\"white\",\"linecolor\":\"white\",\"showbackground\":true,\"ticks\":\"\",\"zerolinecolor\":\"white\",\"gridwidth\":2}},\"shapedefaults\":{\"line\":{\"color\":\"#2a3f5f\"}},\"annotationdefaults\":{\"arrowcolor\":\"#2a3f5f\",\"arrowhead\":0,\"arrowwidth\":1},\"geo\":{\"bgcolor\":\"white\",\"landcolor\":\"#E5ECF6\",\"subunitcolor\":\"white\",\"showland\":true,\"showlakes\":true,\"lakecolor\":\"white\"},\"title\":{\"x\":0.05},\"mapbox\":{\"style\":\"light\"}}},\"annotations\":[{\"align\":\"center\",\"arrowhead\":2,\"arrowsize\":1.5,\"arrowwidth\":1.5,\"ax\":20,\"ay\":0,\"font\":{\"size\":8},\"showarrow\":false,\"text\":\"Node 1\",\"valign\":\"bottom\",\"x\":\"1970-01-01T00:00:00\",\"xref\":\"x\",\"y\":\"Truck 0\",\"yref\":\"y\"},{\"align\":\"center\",\"arrowhead\":2,\"arrowsize\":1.5,\"arrowwidth\":1.5,\"ax\":-20,\"ay\":0,\"font\":{\"size\":8},\"showarrow\":false,\"text\":\"Node 2\",\"valign\":\"bottom\",\"x\":\"1970-01-01T01:00:00\",\"xref\":\"x\",\"y\":\"Truck 0\",\"yref\":\"y\"},{\"align\":\"center\",\"arrowhead\":2,\"arrowsize\":1.5,\"arrowwidth\":1.5,\"ax\":20,\"ay\":0,\"font\":{\"size\":8},\"showarrow\":false,\"text\":\"Node 2\",\"valign\":\"bottom\",\"x\":\"1970-01-01T02:00:00\",\"xref\":\"x\",\"y\":\"Truck 0\",\"yref\":\"y\"},{\"align\":\"center\",\"arrowhead\":2,\"arrowsize\":1.5,\"arrowwidth\":1.5,\"ax\":-20,\"ay\":0,\"font\":{\"size\":8},\"showarrow\":false,\"text\":\"Node 0\",\"valign\":\"bottom\",\"x\":\"1970-01-01T03:00:00\",\"xref\":\"x\",\"y\":\"Truck 0\",\"yref\":\"y\"},{\"align\":\"center\",\"arrowhead\":2,\"arrowsize\":1.5,\"arrowwidth\":1.5,\"ax\":20,\"ay\":0,\"font\":{\"size\":8},\"showarrow\":false,\"text\":\"Node 0\",\"valign\":\"bottom\",\"x\":\"1970-01-01T04:00:00\",\"xref\":\"x\",\"y\":\"Truck 0\",\"yref\":\"y\"},{\"align\":\"center\",\"arrowhead\":2,\"arrowsize\":1.5,\"arrowwidth\":1.5,\"ax\":-20,\"ay\":0,\"font\":{\"size\":8},\"showarrow\":false,\"text\":\"Node 2\",\"valign\":\"bottom\",\"x\":\"1970-01-01T05:00:00\",\"xref\":\"x\",\"y\":\"Truck 0\",\"yref\":\"y\"},{\"align\":\"center\",\"arrowhead\":2,\"arrowsize\":1.5,\"arrowwidth\":1.5,\"ax\":20,\"ay\":0,\"font\":{\"size\":8},\"showarrow\":false,\"text\":\"Node 3\",\"valign\":\"bottom\",\"x\":\"1970-01-01T01:00:00\",\"xref\":\"x\",\"y\":\"Truck 1\",\"yref\":\"y\"},{\"align\":\"center\",\"arrowhead\":2,\"arrowsize\":1.5,\"arrowwidth\":1.5,\"ax\":-20,\"ay\":0,\"font\":{\"size\":8},\"showarrow\":false,\"text\":\"Node 1\",\"valign\":\"bottom\",\"x\":\"1970-01-01T02:00:00\",\"xref\":\"x\",\"y\":\"Truck 1\",\"yref\":\"y\"},{\"align\":\"center\",\"arrowhead\":2,\"arrowsize\":1.5,\"arrowwidth\":1.5,\"ax\":20,\"ay\":0,\"font\":{\"size\":8},\"showarrow\":false,\"text\":\"Node 1\",\"valign\":\"bottom\",\"x\":\"1970-01-01T03:00:00\",\"xref\":\"x\",\"y\":\"Truck 1\",\"yref\":\"y\"},{\"align\":\"center\",\"arrowhead\":2,\"arrowsize\":1.5,\"arrowwidth\":1.5,\"ax\":-20,\"ay\":0,\"font\":{\"size\":8},\"showarrow\":false,\"text\":\"Node 0\",\"valign\":\"bottom\",\"x\":\"1970-01-01T04:00:00\",\"xref\":\"x\",\"y\":\"Truck 1\",\"yref\":\"y\"}],\"legend\":{\"traceorder\":\"reversed\"},\"showlegend\":true,\"xaxis\":{\"showticklabels\":false},\"yaxis\":{\"autorange\":\"reversed\"}},                        {\"responsive\": true}                    ).then(function(){\n                            \nvar gd = document.getElementById('c78d10cc-635a-4993-9e64-29700b926916');\nvar x = new MutationObserver(function (mutations, observer) {{\n        var display = window.getComputedStyle(gd).display;\n        if (!display || display === 'none') {{\n            console.log([gd, 'removed!']);\n            Plotly.purge(gd);\n            observer.disconnect();\n        }}\n}});\n\n// Listen for the removal of the full notebook cells\nvar notebookContainer = gd.closest('#notebook-container');\nif (notebookContainer) {{\n    x.observe(notebookContainer, {childList: true});\n}}\n\n// Listen for the clearing of the current output cell\nvar outputEl = gd.closest('.output');\nif (outputEl) {{\n    x.observe(outputEl, {childList: true});\n}}\n\n                        })                };                });            </script>        </div>"
     },
     "metadata": {},
     "output_type": "display_data"
    }
   ],
   "source": [
    "env = EVRP\n",
    "val_dataset = env.make_dataset(\n",
    "        size=4,\n",
    "        num_samples=1,\n",
    "        num_trucks=2,\n",
    "        num_trailers=3,\n",
    "        truck_names=None,\n",
    "    )\n",
    "\n",
    "# Need a dataloader to batch instances\n",
    "dataloader = DataLoader(val_dataset, batch_size=1, collate_fn=collate_fn)\n",
    "\n",
    "# Make var works for dicts\n",
    "batch = next(iter(dataloader))\n",
    "\n",
    "# Run the model\n",
    "model.eval()\n",
    "model.set_decode_type('greedy')\n",
    "\n",
    "with torch.no_grad():\n",
    "    length, _, edges, decision = model(batch[0].copy(), batch[1].copy(), return_pi=True)\n",
    "\n",
    "edges=edges.permute(1,2,0)\n",
    "decision=decision.permute(0, 2, 1)\n",
    "for i, graph in enumerate(batch[1]):\n",
    "    print(\"graph_index\", i)\n",
    "    fig, ax = plt.subplots()\n",
    "    graph.draw(ax=ax, with_labels=True)\n",
    "    plt.show()\n",
    "\n",
    "    for edge, d in zip(edges[i], decision[i]):\n",
    "        fig, ax = plt.subplots()\n",
    "        print(edge, d)\n",
    "\n",
    "        graph.clear()\n",
    "        edge = graph.visit_edge([edge])\n",
    "        graph.update_attributes(edge)\n",
    "        graph.draw(ax=ax, with_labels=True)\n",
    "\n",
    "        plt.show()\n",
    "\n",
    "    data = edges[0].numpy().astype(int)\n",
    "    plot_timeline(data)"
   ]
  },
  {
   "cell_type": "code",
   "execution_count": null,
   "outputs": [],
   "source": [],
   "metadata": {
    "collapsed": false
   }
  }
 ],
 "metadata": {
  "kernelspec": {
   "display_name": "Python 3 (ipykernel)",
   "language": "python",
   "name": "python3"
  },
  "language_info": {
   "codemirror_mode": {
    "name": "ipython",
    "version": 3
   },
   "file_extension": ".py",
   "mimetype": "text/x-python",
   "name": "python",
   "nbconvert_exporter": "python",
   "pygments_lexer": "ipython3",
   "version": "3.10.10"
  }
 },
 "nbformat": 4,
 "nbformat_minor": 2
}

{
 "cells": [
  {
   "cell_type": "code",
   "execution_count": 18,
   "metadata": {},
   "outputs": [],
   "source": [
    "import os\n",
    "import sys\n",
    "import numpy as np\n",
    "import torch\n",
    "import matplotlib.pyplot as plt\n",
    "from torch.utils.data._utils.collate import default_collate\n",
    "\n",
    "cwd = os.getcwd()\n",
    "sys.path.append(os.path.dirname(os.path.dirname(cwd)))"
   ]
  },
  {
   "cell_type": "code",
   "execution_count": 19,
   "metadata": {},
   "outputs": [],
   "source": [
    "from torch.utils.data import DataLoader\n",
    "from src.utils import load_model\n",
    "from src.problems import EVRP\n",
    "# from src.graph.evrp_network import EVRPNetwork"
   ]
  },
  {
   "cell_type": "code",
   "execution_count": 77,
   "metadata": {},
   "outputs": [
    {
     "name": "stdout",
     "output_type": "stream",
     "text": [
      "  [*] Loading model from ../../outputs/evrp_4/rollout_20230614T160732/epoch-4.pt\n",
      "  [*] Loading model from ../../outputs/evrp_4/rollout_20230614T190949/epoch-0.pt\n"
     ]
    },
    {
     "data": {
      "text/plain": [
       "AttentionEVRPModel(\n",
       "  (init_embed_node): Linear(in_features=5, out_features=128, bias=True)\n",
       "  (project_node_embeddings): Linear(in_features=128, out_features=384, bias=False)\n",
       "  (project_fixed_context): Linear(in_features=128, out_features=128, bias=False)\n",
       "  (encoder): GraphAttentionEncoder(\n",
       "    (layers): Sequential(\n",
       "      (0): MultiHeadAttentionLayer(\n",
       "        (0): SkipConnection(\n",
       "          (module): MultiHeadAttention()\n",
       "        )\n",
       "        (1): Normalization(\n",
       "          (normalizer): BatchNorm1d(128, eps=1e-05, momentum=0.1, affine=True, track_running_stats=True)\n",
       "        )\n",
       "        (2): SkipConnection(\n",
       "          (module): Sequential(\n",
       "            (0): Linear(in_features=128, out_features=512, bias=True)\n",
       "            (1): ReLU()\n",
       "            (2): Linear(in_features=512, out_features=128, bias=True)\n",
       "          )\n",
       "        )\n",
       "        (3): Normalization(\n",
       "          (normalizer): BatchNorm1d(128, eps=1e-05, momentum=0.1, affine=True, track_running_stats=True)\n",
       "        )\n",
       "      )\n",
       "      (1): MultiHeadAttentionLayer(\n",
       "        (0): SkipConnection(\n",
       "          (module): MultiHeadAttention()\n",
       "        )\n",
       "        (1): Normalization(\n",
       "          (normalizer): BatchNorm1d(128, eps=1e-05, momentum=0.1, affine=True, track_running_stats=True)\n",
       "        )\n",
       "        (2): SkipConnection(\n",
       "          (module): Sequential(\n",
       "            (0): Linear(in_features=128, out_features=512, bias=True)\n",
       "            (1): ReLU()\n",
       "            (2): Linear(in_features=512, out_features=128, bias=True)\n",
       "          )\n",
       "        )\n",
       "        (3): Normalization(\n",
       "          (normalizer): BatchNorm1d(128, eps=1e-05, momentum=0.1, affine=True, track_running_stats=True)\n",
       "        )\n",
       "      )\n",
       "      (2): MultiHeadAttentionLayer(\n",
       "        (0): SkipConnection(\n",
       "          (module): MultiHeadAttention()\n",
       "        )\n",
       "        (1): Normalization(\n",
       "          (normalizer): BatchNorm1d(128, eps=1e-05, momentum=0.1, affine=True, track_running_stats=True)\n",
       "        )\n",
       "        (2): SkipConnection(\n",
       "          (module): Sequential(\n",
       "            (0): Linear(in_features=128, out_features=512, bias=True)\n",
       "            (1): ReLU()\n",
       "            (2): Linear(in_features=512, out_features=128, bias=True)\n",
       "          )\n",
       "        )\n",
       "        (3): Normalization(\n",
       "          (normalizer): BatchNorm1d(128, eps=1e-05, momentum=0.1, affine=True, track_running_stats=True)\n",
       "        )\n",
       "      )\n",
       "    )\n",
       "  )\n",
       "  (decoder): GraphDecoderEVRP(\n",
       "    (project_step_context): Linear(in_features=256, out_features=128, bias=False)\n",
       "    (project_out): Linear(in_features=128, out_features=128, bias=False)\n",
       "    (FF_trailer): Sequential(\n",
       "      (0): Linear(in_features=387, out_features=128, bias=True)\n",
       "      (1): Linear(in_features=128, out_features=512, bias=True)\n",
       "      (2): ReLU()\n",
       "      (3): Linear(in_features=512, out_features=128, bias=True)\n",
       "    )\n",
       "    (select_trailer): Linear(in_features=128, out_features=3, bias=True)\n",
       "    (FF_truck): Sequential(\n",
       "      (0): Linear(in_features=6, out_features=128, bias=True)\n",
       "      (1): Linear(in_features=128, out_features=512, bias=True)\n",
       "      (2): ReLU()\n",
       "      (3): Linear(in_features=512, out_features=128, bias=True)\n",
       "    )\n",
       "    (FF_selected_trailer): Sequential(\n",
       "      (0): Linear(in_features=128, out_features=512, bias=True)\n",
       "      (1): ReLU()\n",
       "      (2): Linear(in_features=512, out_features=128, bias=True)\n",
       "    )\n",
       "    (select_truck): Linear(in_features=256, out_features=2, bias=True)\n",
       "    (project_node_step): Linear(in_features=3, out_features=384, bias=False)\n",
       "  )\n",
       ")"
      ]
     },
     "execution_count": 77,
     "metadata": {},
     "output_type": "execute_result"
    }
   ],
   "source": [
    "# model, _ = load_model('../../outputs/evrp_4/rollout_20230614T160835') # with lots of batches and normal cost\n",
    "model, _ = load_model('../../outputs/evrp_4/rollout_20230614T160732') # with cost and lots of batches\n",
    "moder, _ = load_model('../../outputs/evrp_4/rollout_20230614T190949') # test!!\n",
    "model.eval()  # Put in evaluation mode to not track gradients"
   ]
  },
  {
   "cell_type": "code",
   "execution_count": 78,
   "metadata": {},
   "outputs": [],
   "source": [
    "env = EVRP\n",
    "val_dataset = env.make_dataset(\n",
    "        size=4,\n",
    "        num_samples=3,\n",
    "        num_trucks=2,\n",
    "        num_trailers=3,\n",
    "        truck_names=None,\n",
    "    )"
   ]
  },
  {
   "cell_type": "code",
   "execution_count": 79,
   "metadata": {},
   "outputs": [],
   "source": [
    "def collate_fn(batch):\n",
    "    data_batch, graph_batch = zip(*batch)\n",
    "\n",
    "    return default_collate(data_batch), list(graph_batch)\n"
   ]
  },
  {
   "cell_type": "code",
   "execution_count": 80,
   "metadata": {},
   "outputs": [],
   "source": [
    "def tensor_to_tuples(tensor):\n",
    "    batch_size, features, time = tensor.shape\n",
    "    edges = []\n",
    "    for b in range(batch_size):\n",
    "        batch_list = tuple(tensor[b, :, time - 1].tolist())\n",
    "        edges.append([batch_list])\n",
    "\n",
    "    return edges"
   ]
  },
  {
   "cell_type": "code",
   "execution_count": 82,
   "metadata": {},
   "outputs": [
    {
     "name": "stdout",
     "output_type": "stream",
     "text": [
      "Finished Batches 1/3\n",
      "graph_index 0\n"
     ]
    },
    {
     "data": {
      "image/png": "[encoded data removed]",
      "text/plain": [
       "<Figure size 640x480 with 1 Axes>"
      ]
     },
     "metadata": {},
     "output_type": "display_data"
    },
    {
     "name": "stdout",
     "output_type": "stream",
     "text": [
      "tensor([ 1.,  3.,  1., -1.,  0.])\n",
      "0.24967949430201977\n"
     ]
    },
    {
     "ename": "AssertionError",
     "evalue": "The truck is not in the source node, Truck B, None",
     "output_type": "error",
     "traceback": [
      "\u001b[0;31m---------------------------------------------------------------------------\u001b[0m",
      "\u001b[0;31mAssertionError\u001b[0m                            Traceback (most recent call last)",
      "Cell \u001b[0;32mIn[82], line 29\u001b[0m\n\u001b[1;32m     26\u001b[0m fig, ax \u001b[38;5;241m=\u001b[39m plt\u001b[38;5;241m.\u001b[39msubplots()\n\u001b[1;32m     28\u001b[0m graph\u001b[38;5;241m.\u001b[39mremove_edges()\n\u001b[0;32m---> 29\u001b[0m edge \u001b[38;5;241m=\u001b[39m \u001b[43mgraph\u001b[49m\u001b[38;5;241;43m.\u001b[39;49m\u001b[43mvisit_edge\u001b[49m\u001b[43m(\u001b[49m\u001b[43m[\u001b[49m\u001b[43medge\u001b[49m\u001b[43m]\u001b[49m\u001b[43m)\u001b[49m\n\u001b[1;32m     30\u001b[0m graph\u001b[38;5;241m.\u001b[39mupdate_attributes(edge)\n\u001b[1;32m     31\u001b[0m graph\u001b[38;5;241m.\u001b[39mdraw(ax\u001b[38;5;241m=\u001b[39max, with_labels\u001b[38;5;241m=\u001b[39m\u001b[38;5;28;01mTrue\u001b[39;00m)\n",
      "File \u001b[0;32m~/Desktop/thesis/Master_Thesis/src/graph/evrp_graph.py:359\u001b[0m, in \u001b[0;36mEVRPGraph.visit_edge\u001b[0;34m(self, data)\u001b[0m\n\u001b[1;32m    355\u001b[0m     truck_names \u001b[38;5;241m=\u001b[39m get_truck_names(file\u001b[38;5;241m=\u001b[39m\u001b[38;5;28mself\u001b[39m\u001b[38;5;241m.\u001b[39mtruck_names)\n\u001b[1;32m    356\u001b[0m     truck_id \u001b[38;5;241m=\u001b[39m \u001b[38;5;124mf\u001b[39m\u001b[38;5;124m\"\u001b[39m\u001b[38;5;124mTruck \u001b[39m\u001b[38;5;132;01m{\u001b[39;00mtruck_names[\u001b[38;5;28mint\u001b[39m(truck)]\u001b[38;5;132;01m}\u001b[39;00m\u001b[38;5;124m\"\u001b[39m\n\u001b[1;32m    358\u001b[0m     \u001b[38;5;28;01massert\u001b[39;00m \u001b[38;5;129;01mnot\u001b[39;00m (\n\u001b[0;32m--> 359\u001b[0m         \u001b[38;5;129;01mnot\u001b[39;00m \u001b[38;5;28mbool\u001b[39m(trucks) \u001b[38;5;129;01mor\u001b[39;00m (\u001b[38;5;28mbool\u001b[39m(trucks) \u001b[38;5;129;01mand\u001b[39;00m truck_id \u001b[38;5;129;01mnot\u001b[39;00m \u001b[38;5;129;01min\u001b[39;00m trucks\u001b[38;5;241m.\u001b[39mkeys())\n\u001b[1;32m    360\u001b[0m     ), \u001b[38;5;124mf\u001b[39m\u001b[38;5;124m\"\u001b[39m\u001b[38;5;124mThe truck is not in the source node, \u001b[39m\u001b[38;5;132;01m{\u001b[39;00mtruck_id\u001b[38;5;132;01m}\u001b[39;00m\u001b[38;5;124m, \u001b[39m\u001b[38;5;132;01m{\u001b[39;00mtrucks\u001b[38;5;132;01m}\u001b[39;00m\u001b[38;5;124m\"\u001b[39m\n\u001b[1;32m    362\u001b[0m \u001b[38;5;28mself\u001b[39m\u001b[38;5;241m.\u001b[39mgraph\u001b[38;5;241m.\u001b[39madd_edges_from(\n\u001b[1;32m    363\u001b[0m     [\n\u001b[1;32m    364\u001b[0m         (\n\u001b[0;32m   (...)\u001b[0m\n\u001b[1;32m    373\u001b[0m     ]\n\u001b[1;32m    374\u001b[0m )\n\u001b[1;32m    376\u001b[0m \u001b[38;5;28;01mreturn\u001b[39;00m (source_node, target_node, truck_id, trailer_id, \u001b[38;5;28mint\u001b[39m(timestamp))\n",
      "\u001b[0;31mAssertionError\u001b[0m: The truck is not in the source node, Truck B, None"
     ]
    },
    {
     "data": {
      "image/png": "[encoded data removed]",
      "text/plain": [
       "<Figure size 640x480 with 1 Axes>"
      ]
     },
     "metadata": {},
     "output_type": "display_data"
    }
   ],
   "source": [
    "# Need a dataloader to batch instances\n",
    "dataloader = DataLoader(val_dataset, batch_size=1000, collate_fn=collate_fn)\n",
    "\n",
    "# Make var works for dicts\n",
    "batch = next(iter(dataloader))\n",
    "\n",
    "# Run the model\n",
    "model.eval()\n",
    "model.set_decode_type('greedy')\n",
    "\n",
    "with torch.no_grad():\n",
    "    length, _, edges = model(batch[0], batch[1], return_pi=True)\n",
    "\n",
    "edges=edges.transpose(0, 1)\n",
    "edges=edges.transpose(1, 2)\n",
    "# for i, graph in enumerate(batch[1]):\n",
    "graph = batch[1][0]\n",
    "i = 0\n",
    "print(\"graph_index\", i)\n",
    "fig, ax = plt.subplots()\n",
    "graph.draw(ax=ax, with_labels=True)\n",
    "plt.show()\n",
    "for edge in edges[i]:\n",
    "    print(edge)\n",
    "    print(graph.euclid_distance(int(edge[0]), int(edge[1])))\n",
    "    fig, ax = plt.subplots()\n",
    "\n",
    "    graph.remove_edges()\n",
    "    edge = graph.visit_edge([edge])\n",
    "    graph.update_attributes(edge)\n",
    "    graph.draw(ax=ax, with_labels=True)\n",
    "    plt.show()"
   ]
  },
  {
   "cell_type": "code",
   "execution_count": 76,
   "metadata": {},
   "outputs": [
    {
     "data": {
      "text/plain": [
       "0.8431416407711573"
      ]
     },
     "execution_count": 76,
     "metadata": {},
     "output_type": "execute_result"
    }
   ],
   "source": [
    "graph.euclid_distance(0, 2)"
   ]
  },
  {
   "cell_type": "code",
   "execution_count": null,
   "metadata": {},
   "outputs": [],
   "source": [
    "tensor_to_tuples()"
   ]
  },
  {
   "cell_type": "code",
   "execution_count": null,
   "metadata": {},
   "outputs": [],
   "source": []
  },
  {
   "cell_type": "code",
   "execution_count": null,
   "metadata": {},
   "outputs": [],
   "source": []
  },
  {
   "cell_type": "code",
   "execution_count": null,
   "metadata": {},
   "outputs": [],
   "source": []
  }
 ],
 "metadata": {
  "kernelspec": {
   "display_name": "Python 3 (ipykernel)",
   "language": "python",
   "name": "python3"
  },
  "language_info": {
   "codemirror_mode": {
    "name": "ipython",
    "version": 3
   },
   "file_extension": ".py",
   "mimetype": "text/x-python",
   "name": "python",
   "nbconvert_exporter": "python",
   "pygments_lexer": "ipython3",
   "version": "3.10.10"
  }
 },
 "nbformat": 4,
 "nbformat_minor": 2
}

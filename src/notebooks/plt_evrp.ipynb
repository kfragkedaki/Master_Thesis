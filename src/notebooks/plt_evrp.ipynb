{
 "cells": [
  {
   "cell_type": "code",
   "execution_count": 21,
   "metadata": {},
   "outputs": [],
   "source": [
    "import os\n",
    "import sys\n",
    "import torch\n",
    "import matplotlib.pyplot as plt\n",
    "from torch.utils.data._utils.collate import default_collate\n",
    "\n",
    "cwd = os.getcwd()\n",
    "sys.path.append(os.path.dirname(os.path.dirname(cwd)))"
   ]
  },
  {
   "cell_type": "code",
   "execution_count": 22,
   "metadata": {},
   "outputs": [],
   "source": [
    "from torch.utils.data import DataLoader\n",
    "\n",
    "from src.utils.plot_timeline import plot_timeline\n",
    "from src.utils import load_model\n",
    "from src.problems import EVRP"
   ]
  },
  {
   "cell_type": "code",
   "execution_count": 23,
   "metadata": {},
   "outputs": [
    {
     "name": "stdout",
     "output_type": "stream",
     "text": [
      "  [*] Loading model from ../../pretrained/evrp/epoch-53.pt\n"
     ]
    },
    {
     "data": {
      "text/plain": [
       "AttentionEVRPModel(\n",
       "  (init_embed_node): Linear(in_features=5, out_features=128, bias=True)\n",
       "  (project_node_embeddings): Linear(in_features=128, out_features=384, bias=False)\n",
       "  (project_fixed_context): Linear(in_features=128, out_features=128, bias=False)\n",
       "  (encoder): GraphAttentionEncoder(\n",
       "    (layers): Sequential(\n",
       "      (0): MultiHeadAttentionLayer(\n",
       "        (0): SkipConnection(\n",
       "          (module): MultiHeadAttention()\n",
       "        )\n",
       "        (1): Normalization(\n",
       "          (normalizer): BatchNorm1d(128, eps=1e-05, momentum=0.1, affine=True, track_running_stats=True)\n",
       "        )\n",
       "        (2): SkipConnection(\n",
       "          (module): Sequential(\n",
       "            (0): Linear(in_features=128, out_features=512, bias=True)\n",
       "            (1): ReLU()\n",
       "            (2): Linear(in_features=512, out_features=128, bias=True)\n",
       "          )\n",
       "        )\n",
       "        (3): Normalization(\n",
       "          (normalizer): BatchNorm1d(128, eps=1e-05, momentum=0.1, affine=True, track_running_stats=True)\n",
       "        )\n",
       "      )\n",
       "      (1): MultiHeadAttentionLayer(\n",
       "        (0): SkipConnection(\n",
       "          (module): MultiHeadAttention()\n",
       "        )\n",
       "        (1): Normalization(\n",
       "          (normalizer): BatchNorm1d(128, eps=1e-05, momentum=0.1, affine=True, track_running_stats=True)\n",
       "        )\n",
       "        (2): SkipConnection(\n",
       "          (module): Sequential(\n",
       "            (0): Linear(in_features=128, out_features=512, bias=True)\n",
       "            (1): ReLU()\n",
       "            (2): Linear(in_features=512, out_features=128, bias=True)\n",
       "          )\n",
       "        )\n",
       "        (3): Normalization(\n",
       "          (normalizer): BatchNorm1d(128, eps=1e-05, momentum=0.1, affine=True, track_running_stats=True)\n",
       "        )\n",
       "      )\n",
       "      (2): MultiHeadAttentionLayer(\n",
       "        (0): SkipConnection(\n",
       "          (module): MultiHeadAttention()\n",
       "        )\n",
       "        (1): Normalization(\n",
       "          (normalizer): BatchNorm1d(128, eps=1e-05, momentum=0.1, affine=True, track_running_stats=True)\n",
       "        )\n",
       "        (2): SkipConnection(\n",
       "          (module): Sequential(\n",
       "            (0): Linear(in_features=128, out_features=512, bias=True)\n",
       "            (1): ReLU()\n",
       "            (2): Linear(in_features=512, out_features=128, bias=True)\n",
       "          )\n",
       "        )\n",
       "        (3): Normalization(\n",
       "          (normalizer): BatchNorm1d(128, eps=1e-05, momentum=0.1, affine=True, track_running_stats=True)\n",
       "        )\n",
       "      )\n",
       "    )\n",
       "  )\n",
       "  (decoder): GraphDecoderEVRP(\n",
       "    (project_step_context): Linear(in_features=256, out_features=128, bias=False)\n",
       "    (project_out): Linear(in_features=128, out_features=128, bias=False)\n",
       "    (FF_trailer): Sequential(\n",
       "      (0): Linear(in_features=516, out_features=128, bias=True)\n",
       "      (1): Linear(in_features=128, out_features=512, bias=True)\n",
       "      (2): ReLU()\n",
       "      (3): Linear(in_features=512, out_features=128, bias=True)\n",
       "    )\n",
       "    (select_trailer): Linear(in_features=128, out_features=4, bias=True)\n",
       "    (FF_truck): Sequential(\n",
       "      (0): Linear(in_features=6, out_features=128, bias=True)\n",
       "      (1): Linear(in_features=128, out_features=512, bias=True)\n",
       "      (2): ReLU()\n",
       "      (3): Linear(in_features=512, out_features=128, bias=True)\n",
       "    )\n",
       "    (FF_selected_trailer): Sequential(\n",
       "      (0): Linear(in_features=128, out_features=512, bias=True)\n",
       "      (1): ReLU()\n",
       "      (2): Linear(in_features=512, out_features=128, bias=True)\n",
       "    )\n",
       "    (select_truck): Linear(in_features=256, out_features=2, bias=True)\n",
       "    (project_node_step): Linear(in_features=3, out_features=384, bias=False)\n",
       "  )\n",
       ")"
      ]
     },
     "execution_count": 23,
     "metadata": {},
     "output_type": "execute_result"
    }
   ],
   "source": [
    "# model, _ = load_model('../../outputs/evrp_4/rollout_20230614T160835') # with lots of batches and normal cost\n",
    "# model, _ = load_model('../../outputs/evrp_4/rollout_20230614T160732') # with cost and lots of batches\n",
    "# model, _ = load_model('../../outputs/evrp_4/rollout_20230617T040439') # new\n",
    "model, _ = load_model('../../pretrained/evrp') # pretrained\n",
    "\n",
    "model.eval()  # Put in evaluation mode to not track gradients"
   ]
  },
  {
   "cell_type": "code",
   "execution_count": 24,
   "metadata": {},
   "outputs": [],
   "source": [
    "def collate_fn(batch):\n",
    "    data_batch, graph_batch = zip(*batch)\n",
    "\n",
    "    return default_collate(data_batch), list(graph_batch)\n"
   ]
  },
  {
   "cell_type": "code",
   "execution_count": 25,
   "metadata": {},
   "outputs": [],
   "source": [
    "def tensor_to_tuples(tensor):\n",
    "    batch_size, features, time = tensor.shape\n",
    "    edges = []\n",
    "    for b in range(batch_size):\n",
    "        batch_list = tuple(tensor[b, :, time - 1].tolist())\n",
    "        edges.append([batch_list])\n",
    "\n",
    "    return edges"
   ]
  },
  {
   "cell_type": "code",
   "execution_count": 54,
   "metadata": {
    "scrolled": false
   },
   "outputs": [
    {
     "name": "stdout",
     "output_type": "stream",
     "text": [
      "graph_index 0\n"
     ]
    },
    {
     "data": {
      "image/png": "[encoded data removed]",
      "text/plain": [
       "<Figure size 640x480 with 1 Axes>"
      ]
     },
     "metadata": {},
     "output_type": "display_data"
    },
    {
     "name": "stdout",
     "output_type": "stream",
     "text": [
      "tensor([ 0.,  4.,  1., -1.,  0.]) tensor([2, 1, 4])\n"
     ]
    },
    {
     "data": {
      "image/png": "[encoded data removed]",
      "text/plain": [
       "<Figure size 640x480 with 1 Axes>"
      ]
     },
     "metadata": {},
     "output_type": "display_data"
    },
    {
     "name": "stdout",
     "output_type": "stream",
     "text": [
      "tensor([ 3.,  1.,  0., -1.,  1.]) tensor([2, 0, 1])\n"
     ]
    },
    {
     "data": {
      "image/png": "[encoded data removed]",
      "text/plain": [
       "<Figure size 640x480 with 1 Axes>"
      ]
     },
     "metadata": {},
     "output_type": "display_data"
    },
    {
     "name": "stdout",
     "output_type": "stream",
     "text": [
      "tensor([4., 3., 1., 2., 2.]) tensor([2, 1, 3])\n"
     ]
    },
    {
     "data": {
      "image/png": "[encoded data removed]",
      "text/plain": [
       "<Figure size 640x480 with 1 Axes>"
      ]
     },
     "metadata": {},
     "output_type": "display_data"
    },
    {
     "name": "stdout",
     "output_type": "stream",
     "text": [
      "tensor([1., 3., 0., 0., 3.]) tensor([0, 0, 3])\n"
     ]
    },
    {
     "data": {
      "image/png": "[encoded data removed]",
      "text/plain": [
       "<Figure size 640x480 with 1 Axes>"
      ]
     },
     "metadata": {},
     "output_type": "display_data"
    },
    {
     "name": "stdout",
     "output_type": "stream",
     "text": [
      "tensor([ 3.,  2.,  1., -1.,  4.]) tensor([1, 1, 2])\n"
     ]
    },
    {
     "data": {
      "image/png": "[encoded data removed]",
      "text/plain": [
       "<Figure size 640x480 with 1 Axes>"
      ]
     },
     "metadata": {},
     "output_type": "display_data"
    },
    {
     "name": "stdout",
     "output_type": "stream",
     "text": [
      "tensor([ 3.,  2.,  0., -1.,  5.]) tensor([1, 0, 2])\n"
     ]
    },
    {
     "data": {
      "image/png": "[encoded data removed]",
      "text/plain": [
       "<Figure size 640x480 with 1 Axes>"
      ]
     },
     "metadata": {},
     "output_type": "display_data"
    },
    {
     "name": "stdout",
     "output_type": "stream",
     "text": [
      "tensor([2., 3., 1., 1., 6.]) tensor([1, 1, 3])\n"
     ]
    },
    {
     "data": {
      "image/png": "[encoded data removed]",
      "text/plain": [
       "<Figure size 640x480 with 1 Axes>"
      ]
     },
     "metadata": {},
     "output_type": "display_data"
    },
    {
     "name": "stdout",
     "output_type": "stream",
     "text": [
      "tensor([2., 1., 0., 3., 7.]) tensor([3, 0, 1])\n"
     ]
    },
    {
     "data": {
      "image/png": "[encoded data removed]",
      "text/plain": [
       "<Figure size 640x480 with 1 Axes>"
      ]
     },
     "metadata": {},
     "output_type": "display_data"
    },
    {
     "name": "stderr",
     "output_type": "stream",
     "text": [
      "/Users/kleiofragkedaki/Desktop/thesis/master-thesis-2023-reinforcement-learning-in-grids/src/utils/plot_timeline.py:40: FutureWarning:\n",
      "\n",
      "The frame.append method is deprecated and will be removed from pandas in a future version. Use pandas.concat instead.\n",
      "\n",
      "/Users/kleiofragkedaki/Desktop/thesis/master-thesis-2023-reinforcement-learning-in-grids/src/utils/plot_timeline.py:40: FutureWarning:\n",
      "\n",
      "The frame.append method is deprecated and will be removed from pandas in a future version. Use pandas.concat instead.\n",
      "\n",
      "/Users/kleiofragkedaki/Desktop/thesis/master-thesis-2023-reinforcement-learning-in-grids/src/utils/plot_timeline.py:40: FutureWarning:\n",
      "\n",
      "The frame.append method is deprecated and will be removed from pandas in a future version. Use pandas.concat instead.\n",
      "\n",
      "/Users/kleiofragkedaki/Desktop/thesis/master-thesis-2023-reinforcement-learning-in-grids/src/utils/plot_timeline.py:40: FutureWarning:\n",
      "\n",
      "The frame.append method is deprecated and will be removed from pandas in a future version. Use pandas.concat instead.\n",
      "\n",
      "/Users/kleiofragkedaki/Desktop/thesis/master-thesis-2023-reinforcement-learning-in-grids/src/utils/plot_timeline.py:40: FutureWarning:\n",
      "\n",
      "The frame.append method is deprecated and will be removed from pandas in a future version. Use pandas.concat instead.\n",
      "\n",
      "/Users/kleiofragkedaki/Desktop/thesis/master-thesis-2023-reinforcement-learning-in-grids/src/utils/plot_timeline.py:40: FutureWarning:\n",
      "\n",
      "The frame.append method is deprecated and will be removed from pandas in a future version. Use pandas.concat instead.\n",
      "\n",
      "/Users/kleiofragkedaki/Desktop/thesis/master-thesis-2023-reinforcement-learning-in-grids/src/utils/plot_timeline.py:40: FutureWarning:\n",
      "\n",
      "The frame.append method is deprecated and will be removed from pandas in a future version. Use pandas.concat instead.\n",
      "\n",
      "/Users/kleiofragkedaki/Desktop/thesis/master-thesis-2023-reinforcement-learning-in-grids/src/utils/plot_timeline.py:40: FutureWarning:\n",
      "\n",
      "The frame.append method is deprecated and will be removed from pandas in a future version. Use pandas.concat instead.\n",
      "\n"
     ]
    },
    {
     "data": {
      "application/vnd.plotly.v1+json": {
       "config": {
        "plotlyServerURL": "https://plot.ly"
       },
       "data": [
        {
         "hoverinfo": "none",
         "line": {
          "color": "rgb(141,211,199)",
          "width": 20
         },
         "mode": "lines",
         "name": "Truck 0",
         "showlegend": false,
         "type": "scatter",
         "x": [
          "1970-01-01T01:00:00",
          "1970-01-01T02:00:00"
         ],
         "y": [
          "Truck 0",
          "Truck 0"
         ]
        },
        {
         "hoverinfo": "none",
         "line": {
          "color": "rgb(190,186,218)",
          "width": 20
         },
         "mode": "lines",
         "name": "Truck 0",
         "showlegend": false,
         "type": "scatter",
         "x": [
          "1970-01-01T03:00:00",
          "1970-01-01T04:00:00"
         ],
         "y": [
          "Truck 0",
          "Truck 0"
         ]
        },
        {
         "hoverinfo": "none",
         "line": {
          "color": "rgb(141,211,199)",
          "width": 20
         },
         "mode": "lines",
         "name": "Truck 0",
         "showlegend": false,
         "type": "scatter",
         "x": [
          "1970-01-01T05:00:00",
          "1970-01-01T06:00:00"
         ],
         "y": [
          "Truck 0",
          "Truck 0"
         ]
        },
        {
         "hoverinfo": "none",
         "line": {
          "color": "rgb(128,177,211)",
          "width": 20
         },
         "mode": "lines",
         "name": "Truck 0",
         "showlegend": false,
         "type": "scatter",
         "x": [
          "1970-01-01T07:00:00",
          "1970-01-01T08:00:00"
         ],
         "y": [
          "Truck 0",
          "Truck 0"
         ]
        },
        {
         "hoverinfo": "none",
         "line": {
          "color": "rgb(141,211,199)",
          "width": 20
         },
         "mode": "lines",
         "name": "Truck 1",
         "showlegend": false,
         "type": "scatter",
         "x": [
          "1970-01-01T00:00:00",
          "1970-01-01T01:00:00"
         ],
         "y": [
          "Truck 1",
          "Truck 1"
         ]
        },
        {
         "hoverinfo": "none",
         "line": {
          "color": "rgb(255,255,179)",
          "width": 20
         },
         "mode": "lines",
         "name": "Truck 1",
         "showlegend": false,
         "type": "scatter",
         "x": [
          "1970-01-01T02:00:00",
          "1970-01-01T03:00:00"
         ],
         "y": [
          "Truck 1",
          "Truck 1"
         ]
        },
        {
         "hoverinfo": "none",
         "line": {
          "color": "rgb(141,211,199)",
          "width": 20
         },
         "mode": "lines",
         "name": "Truck 1",
         "showlegend": false,
         "type": "scatter",
         "x": [
          "1970-01-01T04:00:00",
          "1970-01-01T05:00:00"
         ],
         "y": [
          "Truck 1",
          "Truck 1"
         ]
        },
        {
         "hoverinfo": "none",
         "line": {
          "color": "rgb(251,128,114)",
          "width": 20
         },
         "mode": "lines",
         "name": "Truck 1",
         "showlegend": false,
         "type": "scatter",
         "x": [
          "1970-01-01T06:00:00",
          "1970-01-01T07:00:00"
         ],
         "y": [
          "Truck 1",
          "Truck 1"
         ]
        },
        {
         "legendgroup": "Trailer None",
         "marker": {
          "color": "rgb(141,211,199)"
         },
         "mode": "markers",
         "name": "Trailer None",
         "type": "scatter",
         "x": [
          null
         ],
         "y": [
          null
         ]
        },
        {
         "legendgroup": "Trailer 2",
         "marker": {
          "color": "rgb(255,255,179)"
         },
         "mode": "markers",
         "name": "Trailer 2",
         "type": "scatter",
         "x": [
          null
         ],
         "y": [
          null
         ]
        },
        {
         "legendgroup": "Trailer 0",
         "marker": {
          "color": "rgb(190,186,218)"
         },
         "mode": "markers",
         "name": "Trailer 0",
         "type": "scatter",
         "x": [
          null
         ],
         "y": [
          null
         ]
        },
        {
         "legendgroup": "Trailer 1",
         "marker": {
          "color": "rgb(251,128,114)"
         },
         "mode": "markers",
         "name": "Trailer 1",
         "type": "scatter",
         "x": [
          null
         ],
         "y": [
          null
         ]
        },
        {
         "legendgroup": "Trailer 3",
         "marker": {
          "color": "rgb(128,177,211)"
         },
         "mode": "markers",
         "name": "Trailer 3",
         "type": "scatter",
         "x": [
          null
         ],
         "y": [
          null
         ]
        }
       ],
       "layout": {
        "annotations": [
         {
          "align": "center",
          "arrowhead": 2,
          "arrowsize": 1.5,
          "arrowwidth": 1.5,
          "ax": 20,
          "ay": 0,
          "font": {
           "size": 8
          },
          "showarrow": false,
          "text": "Node 3",
          "valign": "bottom",
          "x": "1970-01-01T01:00:00",
          "xref": "x",
          "y": "Truck 0",
          "yref": "y"
         },
         {
          "align": "center",
          "arrowhead": 2,
          "arrowsize": 1.5,
          "arrowwidth": 1.5,
          "ax": -20,
          "ay": 0,
          "font": {
           "size": 8
          },
          "showarrow": false,
          "text": "Node 1",
          "valign": "bottom",
          "x": "1970-01-01T02:00:00",
          "xref": "x",
          "y": "Truck 0",
          "yref": "y"
         },
         {
          "align": "center",
          "arrowhead": 2,
          "arrowsize": 1.5,
          "arrowwidth": 1.5,
          "ax": 20,
          "ay": 0,
          "font": {
           "size": 8
          },
          "showarrow": false,
          "text": "Node 1",
          "valign": "bottom",
          "x": "1970-01-01T03:00:00",
          "xref": "x",
          "y": "Truck 0",
          "yref": "y"
         },
         {
          "align": "center",
          "arrowhead": 2,
          "arrowsize": 1.5,
          "arrowwidth": 1.5,
          "ax": -20,
          "ay": 0,
          "font": {
           "size": 8
          },
          "showarrow": false,
          "text": "Node 3",
          "valign": "bottom",
          "x": "1970-01-01T04:00:00",
          "xref": "x",
          "y": "Truck 0",
          "yref": "y"
         },
         {
          "align": "center",
          "arrowhead": 2,
          "arrowsize": 1.5,
          "arrowwidth": 1.5,
          "ax": 20,
          "ay": 0,
          "font": {
           "size": 8
          },
          "showarrow": false,
          "text": "Node 3",
          "valign": "bottom",
          "x": "1970-01-01T05:00:00",
          "xref": "x",
          "y": "Truck 0",
          "yref": "y"
         },
         {
          "align": "center",
          "arrowhead": 2,
          "arrowsize": 1.5,
          "arrowwidth": 1.5,
          "ax": -20,
          "ay": 0,
          "font": {
           "size": 8
          },
          "showarrow": false,
          "text": "Node 2",
          "valign": "bottom",
          "x": "1970-01-01T06:00:00",
          "xref": "x",
          "y": "Truck 0",
          "yref": "y"
         },
         {
          "align": "center",
          "arrowhead": 2,
          "arrowsize": 1.5,
          "arrowwidth": 1.5,
          "ax": 20,
          "ay": 0,
          "font": {
           "size": 8
          },
          "showarrow": false,
          "text": "Node 2",
          "valign": "bottom",
          "x": "1970-01-01T07:00:00",
          "xref": "x",
          "y": "Truck 0",
          "yref": "y"
         },
         {
          "align": "center",
          "arrowhead": 2,
          "arrowsize": 1.5,
          "arrowwidth": 1.5,
          "ax": -20,
          "ay": 0,
          "font": {
           "size": 8
          },
          "showarrow": false,
          "text": "Node 1",
          "valign": "bottom",
          "x": "1970-01-01T08:00:00",
          "xref": "x",
          "y": "Truck 0",
          "yref": "y"
         },
         {
          "align": "center",
          "arrowhead": 2,
          "arrowsize": 1.5,
          "arrowwidth": 1.5,
          "ax": 20,
          "ay": 0,
          "font": {
           "size": 8
          },
          "showarrow": false,
          "text": "Node 0",
          "valign": "bottom",
          "x": "1970-01-01T00:00:00",
          "xref": "x",
          "y": "Truck 1",
          "yref": "y"
         },
         {
          "align": "center",
          "arrowhead": 2,
          "arrowsize": 1.5,
          "arrowwidth": 1.5,
          "ax": -20,
          "ay": 0,
          "font": {
           "size": 8
          },
          "showarrow": false,
          "text": "Node 4",
          "valign": "bottom",
          "x": "1970-01-01T01:00:00",
          "xref": "x",
          "y": "Truck 1",
          "yref": "y"
         },
         {
          "align": "center",
          "arrowhead": 2,
          "arrowsize": 1.5,
          "arrowwidth": 1.5,
          "ax": 20,
          "ay": 0,
          "font": {
           "size": 8
          },
          "showarrow": false,
          "text": "Node 4",
          "valign": "bottom",
          "x": "1970-01-01T02:00:00",
          "xref": "x",
          "y": "Truck 1",
          "yref": "y"
         },
         {
          "align": "center",
          "arrowhead": 2,
          "arrowsize": 1.5,
          "arrowwidth": 1.5,
          "ax": -20,
          "ay": 0,
          "font": {
           "size": 8
          },
          "showarrow": false,
          "text": "Node 3",
          "valign": "bottom",
          "x": "1970-01-01T03:00:00",
          "xref": "x",
          "y": "Truck 1",
          "yref": "y"
         },
         {
          "align": "center",
          "arrowhead": 2,
          "arrowsize": 1.5,
          "arrowwidth": 1.5,
          "ax": 20,
          "ay": 0,
          "font": {
           "size": 8
          },
          "showarrow": false,
          "text": "Node 3",
          "valign": "bottom",
          "x": "1970-01-01T04:00:00",
          "xref": "x",
          "y": "Truck 1",
          "yref": "y"
         },
         {
          "align": "center",
          "arrowhead": 2,
          "arrowsize": 1.5,
          "arrowwidth": 1.5,
          "ax": -20,
          "ay": 0,
          "font": {
           "size": 8
          },
          "showarrow": false,
          "text": "Node 2",
          "valign": "bottom",
          "x": "1970-01-01T05:00:00",
          "xref": "x",
          "y": "Truck 1",
          "yref": "y"
         },
         {
          "align": "center",
          "arrowhead": 2,
          "arrowsize": 1.5,
          "arrowwidth": 1.5,
          "ax": 20,
          "ay": 0,
          "font": {
           "size": 8
          },
          "showarrow": false,
          "text": "Node 2",
          "valign": "bottom",
          "x": "1970-01-01T06:00:00",
          "xref": "x",
          "y": "Truck 1",
          "yref": "y"
         },
         {
          "align": "center",
          "arrowhead": 2,
          "arrowsize": 1.5,
          "arrowwidth": 1.5,
          "ax": -20,
          "ay": 0,
          "font": {
           "size": 8
          },
          "showarrow": false,
          "text": "Node 3",
          "valign": "bottom",
          "x": "1970-01-01T07:00:00",
          "xref": "x",
          "y": "Truck 1",
          "yref": "y"
         }
        ],
        "legend": {
         "traceorder": "reversed"
        },
        "showlegend": true,
        "template": {
         "data": {
          "bar": [
           {
            "error_x": {
             "color": "#2a3f5f"
            },
            "error_y": {
             "color": "#2a3f5f"
            },
            "marker": {
             "line": {
              "color": "#E5ECF6",
              "width": 0.5
             },
             "pattern": {
              "fillmode": "overlay",
              "size": 10,
              "solidity": 0.2
             }
            },
            "type": "bar"
           }
          ],
          "barpolar": [
           {
            "marker": {
             "line": {
              "color": "#E5ECF6",
              "width": 0.5
             },
             "pattern": {
              "fillmode": "overlay",
              "size": 10,
              "solidity": 0.2
             }
            },
            "type": "barpolar"
           }
          ],
          "carpet": [
           {
            "aaxis": {
             "endlinecolor": "#2a3f5f",
             "gridcolor": "white",
             "linecolor": "white",
             "minorgridcolor": "white",
             "startlinecolor": "#2a3f5f"
            },
            "baxis": {
             "endlinecolor": "#2a3f5f",
             "gridcolor": "white",
             "linecolor": "white",
             "minorgridcolor": "white",
             "startlinecolor": "#2a3f5f"
            },
            "type": "carpet"
           }
          ],
          "choropleth": [
           {
            "colorbar": {
             "outlinewidth": 0,
             "ticks": ""
            },
            "type": "choropleth"
           }
          ],
          "contour": [
           {
            "colorbar": {
             "outlinewidth": 0,
             "ticks": ""
            },
            "colorscale": [
             [
              0,
              "#0d0887"
             ],
             [
              0.1111111111111111,
              "#46039f"
             ],
             [
              0.2222222222222222,
              "#7201a8"
             ],
             [
              0.3333333333333333,
              "#9c179e"
             ],
             [
              0.4444444444444444,
              "#bd3786"
             ],
             [
              0.5555555555555556,
              "#d8576b"
             ],
             [
              0.6666666666666666,
              "#ed7953"
             ],
             [
              0.7777777777777778,
              "#fb9f3a"
             ],
             [
              0.8888888888888888,
              "#fdca26"
             ],
             [
              1,
              "#f0f921"
             ]
            ],
            "type": "contour"
           }
          ],
          "contourcarpet": [
           {
            "colorbar": {
             "outlinewidth": 0,
             "ticks": ""
            },
            "type": "contourcarpet"
           }
          ],
          "heatmap": [
           {
            "colorbar": {
             "outlinewidth": 0,
             "ticks": ""
            },
            "colorscale": [
             [
              0,
              "#0d0887"
             ],
             [
              0.1111111111111111,
              "#46039f"
             ],
             [
              0.2222222222222222,
              "#7201a8"
             ],
             [
              0.3333333333333333,
              "#9c179e"
             ],
             [
              0.4444444444444444,
              "#bd3786"
             ],
             [
              0.5555555555555556,
              "#d8576b"
             ],
             [
              0.6666666666666666,
              "#ed7953"
             ],
             [
              0.7777777777777778,
              "#fb9f3a"
             ],
             [
              0.8888888888888888,
              "#fdca26"
             ],
             [
              1,
              "#f0f921"
             ]
            ],
            "type": "heatmap"
           }
          ],
          "heatmapgl": [
           {
            "colorbar": {
             "outlinewidth": 0,
             "ticks": ""
            },
            "colorscale": [
             [
              0,
              "#0d0887"
             ],
             [
              0.1111111111111111,
              "#46039f"
             ],
             [
              0.2222222222222222,
              "#7201a8"
             ],
             [
              0.3333333333333333,
              "#9c179e"
             ],
             [
              0.4444444444444444,
              "#bd3786"
             ],
             [
              0.5555555555555556,
              "#d8576b"
             ],
             [
              0.6666666666666666,
              "#ed7953"
             ],
             [
              0.7777777777777778,
              "#fb9f3a"
             ],
             [
              0.8888888888888888,
              "#fdca26"
             ],
             [
              1,
              "#f0f921"
             ]
            ],
            "type": "heatmapgl"
           }
          ],
          "histogram": [
           {
            "marker": {
             "pattern": {
              "fillmode": "overlay",
              "size": 10,
              "solidity": 0.2
             }
            },
            "type": "histogram"
           }
          ],
          "histogram2d": [
           {
            "colorbar": {
             "outlinewidth": 0,
             "ticks": ""
            },
            "colorscale": [
             [
              0,
              "#0d0887"
             ],
             [
              0.1111111111111111,
              "#46039f"
             ],
             [
              0.2222222222222222,
              "#7201a8"
             ],
             [
              0.3333333333333333,
              "#9c179e"
             ],
             [
              0.4444444444444444,
              "#bd3786"
             ],
             [
              0.5555555555555556,
              "#d8576b"
             ],
             [
              0.6666666666666666,
              "#ed7953"
             ],
             [
              0.7777777777777778,
              "#fb9f3a"
             ],
             [
              0.8888888888888888,
              "#fdca26"
             ],
             [
              1,
              "#f0f921"
             ]
            ],
            "type": "histogram2d"
           }
          ],
          "histogram2dcontour": [
           {
            "colorbar": {
             "outlinewidth": 0,
             "ticks": ""
            },
            "colorscale": [
             [
              0,
              "#0d0887"
             ],
             [
              0.1111111111111111,
              "#46039f"
             ],
             [
              0.2222222222222222,
              "#7201a8"
             ],
             [
              0.3333333333333333,
              "#9c179e"
             ],
             [
              0.4444444444444444,
              "#bd3786"
             ],
             [
              0.5555555555555556,
              "#d8576b"
             ],
             [
              0.6666666666666666,
              "#ed7953"
             ],
             [
              0.7777777777777778,
              "#fb9f3a"
             ],
             [
              0.8888888888888888,
              "#fdca26"
             ],
             [
              1,
              "#f0f921"
             ]
            ],
            "type": "histogram2dcontour"
           }
          ],
          "mesh3d": [
           {
            "colorbar": {
             "outlinewidth": 0,
             "ticks": ""
            },
            "type": "mesh3d"
           }
          ],
          "parcoords": [
           {
            "line": {
             "colorbar": {
              "outlinewidth": 0,
              "ticks": ""
             }
            },
            "type": "parcoords"
           }
          ],
          "pie": [
           {
            "automargin": true,
            "type": "pie"
           }
          ],
          "scatter": [
           {
            "fillpattern": {
             "fillmode": "overlay",
             "size": 10,
             "solidity": 0.2
            },
            "type": "scatter"
           }
          ],
          "scatter3d": [
           {
            "line": {
             "colorbar": {
              "outlinewidth": 0,
              "ticks": ""
             }
            },
            "marker": {
             "colorbar": {
              "outlinewidth": 0,
              "ticks": ""
             }
            },
            "type": "scatter3d"
           }
          ],
          "scattercarpet": [
           {
            "marker": {
             "colorbar": {
              "outlinewidth": 0,
              "ticks": ""
             }
            },
            "type": "scattercarpet"
           }
          ],
          "scattergeo": [
           {
            "marker": {
             "colorbar": {
              "outlinewidth": 0,
              "ticks": ""
             }
            },
            "type": "scattergeo"
           }
          ],
          "scattergl": [
           {
            "marker": {
             "colorbar": {
              "outlinewidth": 0,
              "ticks": ""
             }
            },
            "type": "scattergl"
           }
          ],
          "scattermapbox": [
           {
            "marker": {
             "colorbar": {
              "outlinewidth": 0,
              "ticks": ""
             }
            },
            "type": "scattermapbox"
           }
          ],
          "scatterpolar": [
           {
            "marker": {
             "colorbar": {
              "outlinewidth": 0,
              "ticks": ""
             }
            },
            "type": "scatterpolar"
           }
          ],
          "scatterpolargl": [
           {
            "marker": {
             "colorbar": {
              "outlinewidth": 0,
              "ticks": ""
             }
            },
            "type": "scatterpolargl"
           }
          ],
          "scatterternary": [
           {
            "marker": {
             "colorbar": {
              "outlinewidth": 0,
              "ticks": ""
             }
            },
            "type": "scatterternary"
           }
          ],
          "surface": [
           {
            "colorbar": {
             "outlinewidth": 0,
             "ticks": ""
            },
            "colorscale": [
             [
              0,
              "#0d0887"
             ],
             [
              0.1111111111111111,
              "#46039f"
             ],
             [
              0.2222222222222222,
              "#7201a8"
             ],
             [
              0.3333333333333333,
              "#9c179e"
             ],
             [
              0.4444444444444444,
              "#bd3786"
             ],
             [
              0.5555555555555556,
              "#d8576b"
             ],
             [
              0.6666666666666666,
              "#ed7953"
             ],
             [
              0.7777777777777778,
              "#fb9f3a"
             ],
             [
              0.8888888888888888,
              "#fdca26"
             ],
             [
              1,
              "#f0f921"
             ]
            ],
            "type": "surface"
           }
          ],
          "table": [
           {
            "cells": {
             "fill": {
              "color": "#EBF0F8"
             },
             "line": {
              "color": "white"
             }
            },
            "header": {
             "fill": {
              "color": "#C8D4E3"
             },
             "line": {
              "color": "white"
             }
            },
            "type": "table"
           }
          ]
         },
         "layout": {
          "annotationdefaults": {
           "arrowcolor": "#2a3f5f",
           "arrowhead": 0,
           "arrowwidth": 1
          },
          "autotypenumbers": "strict",
          "coloraxis": {
           "colorbar": {
            "outlinewidth": 0,
            "ticks": ""
           }
          },
          "colorscale": {
           "diverging": [
            [
             0,
             "#8e0152"
            ],
            [
             0.1,
             "#c51b7d"
            ],
            [
             0.2,
             "#de77ae"
            ],
            [
             0.3,
             "#f1b6da"
            ],
            [
             0.4,
             "#fde0ef"
            ],
            [
             0.5,
             "#f7f7f7"
            ],
            [
             0.6,
             "#e6f5d0"
            ],
            [
             0.7,
             "#b8e186"
            ],
            [
             0.8,
             "#7fbc41"
            ],
            [
             0.9,
             "#4d9221"
            ],
            [
             1,
             "#276419"
            ]
           ],
           "sequential": [
            [
             0,
             "#0d0887"
            ],
            [
             0.1111111111111111,
             "#46039f"
            ],
            [
             0.2222222222222222,
             "#7201a8"
            ],
            [
             0.3333333333333333,
             "#9c179e"
            ],
            [
             0.4444444444444444,
             "#bd3786"
            ],
            [
             0.5555555555555556,
             "#d8576b"
            ],
            [
             0.6666666666666666,
             "#ed7953"
            ],
            [
             0.7777777777777778,
             "#fb9f3a"
            ],
            [
             0.8888888888888888,
             "#fdca26"
            ],
            [
             1,
             "#f0f921"
            ]
           ],
           "sequentialminus": [
            [
             0,
             "#0d0887"
            ],
            [
             0.1111111111111111,
             "#46039f"
            ],
            [
             0.2222222222222222,
             "#7201a8"
            ],
            [
             0.3333333333333333,
             "#9c179e"
            ],
            [
             0.4444444444444444,
             "#bd3786"
            ],
            [
             0.5555555555555556,
             "#d8576b"
            ],
            [
             0.6666666666666666,
             "#ed7953"
            ],
            [
             0.7777777777777778,
             "#fb9f3a"
            ],
            [
             0.8888888888888888,
             "#fdca26"
            ],
            [
             1,
             "#f0f921"
            ]
           ]
          },
          "colorway": [
           "#636efa",
           "#EF553B",
           "#00cc96",
           "#ab63fa",
           "#FFA15A",
           "#19d3f3",
           "#FF6692",
           "#B6E880",
           "#FF97FF",
           "#FECB52"
          ],
          "font": {
           "color": "#2a3f5f"
          },
          "geo": {
           "bgcolor": "white",
           "lakecolor": "white",
           "landcolor": "#E5ECF6",
           "showlakes": true,
           "showland": true,
           "subunitcolor": "white"
          },
          "hoverlabel": {
           "align": "left"
          },
          "hovermode": "closest",
          "mapbox": {
           "style": "light"
          },
          "paper_bgcolor": "white",
          "plot_bgcolor": "#E5ECF6",
          "polar": {
           "angularaxis": {
            "gridcolor": "white",
            "linecolor": "white",
            "ticks": ""
           },
           "bgcolor": "#E5ECF6",
           "radialaxis": {
            "gridcolor": "white",
            "linecolor": "white",
            "ticks": ""
           }
          },
          "scene": {
           "xaxis": {
            "backgroundcolor": "#E5ECF6",
            "gridcolor": "white",
            "gridwidth": 2,
            "linecolor": "white",
            "showbackground": true,
            "ticks": "",
            "zerolinecolor": "white"
           },
           "yaxis": {
            "backgroundcolor": "#E5ECF6",
            "gridcolor": "white",
            "gridwidth": 2,
            "linecolor": "white",
            "showbackground": true,
            "ticks": "",
            "zerolinecolor": "white"
           },
           "zaxis": {
            "backgroundcolor": "#E5ECF6",
            "gridcolor": "white",
            "gridwidth": 2,
            "linecolor": "white",
            "showbackground": true,
            "ticks": "",
            "zerolinecolor": "white"
           }
          },
          "shapedefaults": {
           "line": {
            "color": "#2a3f5f"
           }
          },
          "ternary": {
           "aaxis": {
            "gridcolor": "white",
            "linecolor": "white",
            "ticks": ""
           },
           "baxis": {
            "gridcolor": "white",
            "linecolor": "white",
            "ticks": ""
           },
           "bgcolor": "#E5ECF6",
           "caxis": {
            "gridcolor": "white",
            "linecolor": "white",
            "ticks": ""
           }
          },
          "title": {
           "x": 0.05
          },
          "xaxis": {
           "automargin": true,
           "gridcolor": "white",
           "linecolor": "white",
           "ticks": "",
           "title": {
            "standoff": 15
           },
           "zerolinecolor": "white",
           "zerolinewidth": 2
          },
          "yaxis": {
           "automargin": true,
           "gridcolor": "white",
           "linecolor": "white",
           "ticks": "",
           "title": {
            "standoff": 15
           },
           "zerolinecolor": "white",
           "zerolinewidth": 2
          }
         }
        },
        "xaxis": {
         "showticklabels": false
        },
        "yaxis": {
         "autorange": "reversed"
        }
       }
      }
     },
     "metadata": {},
     "output_type": "display_data"
    }
   ],
   "source": [
    "env = EVRP\n",
    "val_dataset = env.make_dataset(\n",
    "        size=5,\n",
    "        num_samples=1,\n",
    "        num_trucks=2,\n",
    "        num_trailers=4,\n",
    "        truck_names=None,\n",
    "        display_graphs=3,\n",
    "    )\n",
    "\n",
    "# Need a dataloader to batch instances\n",
    "dataloader = DataLoader(val_dataset, batch_size=1, collate_fn=collate_fn)\n",
    "\n",
    "# Make var works for dicts\n",
    "batch = next(iter(dataloader))\n",
    "\n",
    "# Run the model\n",
    "model.eval()\n",
    "model.set_decode_type('greedy')\n",
    "\n",
    "with torch.no_grad():\n",
    "    length, _, edges, decision = model(batch[0].copy(), batch[1].copy(), return_pi=True)\n",
    "\n",
    "edges=edges.permute(1,2,0)\n",
    "decision=decision.permute(0, 2, 1)\n",
    "for i, graph in enumerate(batch[1]):\n",
    "    print(\"graph_index\", i)\n",
    "    fig, ax = plt.subplots()\n",
    "    graph.draw(ax=ax, with_labels=True)\n",
    "    plt.show()\n",
    "\n",
    "    for edge, d in zip(edges[i], decision[i]):\n",
    "        fig, ax = plt.subplots()\n",
    "        print(edge, d)\n",
    "\n",
    "        graph.clear()\n",
    "        edge = graph.visit_edge([edge])\n",
    "        graph.update_attributes(edge)\n",
    "        graph.draw(ax=ax, with_labels=True)\n",
    "\n",
    "        plt.show()\n",
    "\n",
    "    data = edges[0].numpy().astype(int)\n",
    "    plot_timeline(data)"
   ]
  },
  {
   "cell_type": "code",
   "execution_count": 46,
   "metadata": {
    "scrolled": false
   },
   "outputs": [
    {
     "name": "stdout",
     "output_type": "stream",
     "text": [
      "graph_index 0\n"
     ]
    },
    {
     "data": {
      "image/png": "[encoded data removed]",
      "text/plain": [
       "<Figure size 640x480 with 1 Axes>"
      ]
     },
     "metadata": {},
     "output_type": "display_data"
    },
    {
     "name": "stdout",
     "output_type": "stream",
     "text": [
      "tensor([0., 2., 0., 1., 0.]) tensor([1, 0, 2])\n"
     ]
    },
    {
     "data": {
      "image/png": "[encoded data removed]",
      "text/plain": [
       "<Figure size 640x480 with 1 Axes>"
      ]
     },
     "metadata": {},
     "output_type": "display_data"
    },
    {
     "name": "stdout",
     "output_type": "stream",
     "text": [
      "tensor([3., 4., 1., 0., 1.]) tensor([0, 1, 4])\n"
     ]
    },
    {
     "data": {
      "image/png": "[encoded data removed]",
      "text/plain": [
       "<Figure size 640x480 with 1 Axes>"
      ]
     },
     "metadata": {},
     "output_type": "display_data"
    },
    {
     "name": "stdout",
     "output_type": "stream",
     "text": [
      "tensor([2., 4., 0., 2., 2.]) tensor([2, 0, 4])\n"
     ]
    },
    {
     "data": {
      "image/png": "[encoded data removed]",
      "text/plain": [
       "<Figure size 640x480 with 1 Axes>"
      ]
     },
     "metadata": {},
     "output_type": "display_data"
    },
    {
     "name": "stdout",
     "output_type": "stream",
     "text": [
      "tensor([4., 2., 1., 3., 3.]) tensor([3, 1, 2])\n"
     ]
    },
    {
     "data": {
      "image/png": "[encoded data removed]",
      "text/plain": [
       "<Figure size 640x480 with 1 Axes>"
      ]
     },
     "metadata": {},
     "output_type": "display_data"
    },
    {
     "name": "stdout",
     "output_type": "stream",
     "text": [
      "tensor([4., 2., 0., 0., 4.]) tensor([0, 0, 2])\n"
     ]
    },
    {
     "data": {
      "image/png": "[encoded data removed]",
      "text/plain": [
       "<Figure size 640x480 with 1 Axes>"
      ]
     },
     "metadata": {},
     "output_type": "display_data"
    },
    {
     "name": "stderr",
     "output_type": "stream",
     "text": [
      "/Users/kleiofragkedaki/Desktop/thesis/master-thesis-2023-reinforcement-learning-in-grids/src/utils/plot_timeline.py:40: FutureWarning:\n",
      "\n",
      "The frame.append method is deprecated and will be removed from pandas in a future version. Use pandas.concat instead.\n",
      "\n",
      "/Users/kleiofragkedaki/Desktop/thesis/master-thesis-2023-reinforcement-learning-in-grids/src/utils/plot_timeline.py:40: FutureWarning:\n",
      "\n",
      "The frame.append method is deprecated and will be removed from pandas in a future version. Use pandas.concat instead.\n",
      "\n",
      "/Users/kleiofragkedaki/Desktop/thesis/master-thesis-2023-reinforcement-learning-in-grids/src/utils/plot_timeline.py:40: FutureWarning:\n",
      "\n",
      "The frame.append method is deprecated and will be removed from pandas in a future version. Use pandas.concat instead.\n",
      "\n",
      "/Users/kleiofragkedaki/Desktop/thesis/master-thesis-2023-reinforcement-learning-in-grids/src/utils/plot_timeline.py:40: FutureWarning:\n",
      "\n",
      "The frame.append method is deprecated and will be removed from pandas in a future version. Use pandas.concat instead.\n",
      "\n",
      "/Users/kleiofragkedaki/Desktop/thesis/master-thesis-2023-reinforcement-learning-in-grids/src/utils/plot_timeline.py:40: FutureWarning:\n",
      "\n",
      "The frame.append method is deprecated and will be removed from pandas in a future version. Use pandas.concat instead.\n",
      "\n"
     ]
    },
    {
     "data": {
      "application/vnd.plotly.v1+json": {
       "config": {
        "plotlyServerURL": "https://plot.ly"
       },
       "data": [
        {
         "hoverinfo": "none",
         "line": {
          "color": "rgb(141,211,199)",
          "width": 20
         },
         "mode": "lines",
         "name": "Truck 0",
         "showlegend": false,
         "type": "scatter",
         "x": [
          "1970-01-01T00:00:00",
          "1970-01-01T01:00:00"
         ],
         "y": [
          "Truck 0",
          "Truck 0"
         ]
        },
        {
         "hoverinfo": "none",
         "line": {
          "color": "rgb(190,186,218)",
          "width": 20
         },
         "mode": "lines",
         "name": "Truck 0",
         "showlegend": false,
         "type": "scatter",
         "x": [
          "1970-01-01T02:00:00",
          "1970-01-01T03:00:00"
         ],
         "y": [
          "Truck 0",
          "Truck 0"
         ]
        },
        {
         "hoverinfo": "none",
         "line": {
          "color": "rgb(255,255,179)",
          "width": 20
         },
         "mode": "lines",
         "name": "Truck 0",
         "showlegend": false,
         "type": "scatter",
         "x": [
          "1970-01-01T04:00:00",
          "1970-01-01T05:00:00"
         ],
         "y": [
          "Truck 0",
          "Truck 0"
         ]
        },
        {
         "hoverinfo": "none",
         "line": {
          "color": "rgb(255,255,179)",
          "width": 20
         },
         "mode": "lines",
         "name": "Truck 1",
         "showlegend": false,
         "type": "scatter",
         "x": [
          "1970-01-01T01:00:00",
          "1970-01-01T02:00:00"
         ],
         "y": [
          "Truck 1",
          "Truck 1"
         ]
        },
        {
         "hoverinfo": "none",
         "line": {
          "color": "rgb(251,128,114)",
          "width": 20
         },
         "mode": "lines",
         "name": "Truck 1",
         "showlegend": false,
         "type": "scatter",
         "x": [
          "1970-01-01T03:00:00",
          "1970-01-01T04:00:00"
         ],
         "y": [
          "Truck 1",
          "Truck 1"
         ]
        },
        {
         "legendgroup": "Trailer 1",
         "marker": {
          "color": "rgb(141,211,199)"
         },
         "mode": "markers",
         "name": "Trailer 1",
         "type": "scatter",
         "x": [
          null
         ],
         "y": [
          null
         ]
        },
        {
         "legendgroup": "Trailer 0",
         "marker": {
          "color": "rgb(255,255,179)"
         },
         "mode": "markers",
         "name": "Trailer 0",
         "type": "scatter",
         "x": [
          null
         ],
         "y": [
          null
         ]
        },
        {
         "legendgroup": "Trailer 2",
         "marker": {
          "color": "rgb(190,186,218)"
         },
         "mode": "markers",
         "name": "Trailer 2",
         "type": "scatter",
         "x": [
          null
         ],
         "y": [
          null
         ]
        },
        {
         "legendgroup": "Trailer 3",
         "marker": {
          "color": "rgb(251,128,114)"
         },
         "mode": "markers",
         "name": "Trailer 3",
         "type": "scatter",
         "x": [
          null
         ],
         "y": [
          null
         ]
        }
       ],
       "layout": {
        "annotations": [
         {
          "align": "center",
          "arrowhead": 2,
          "arrowsize": 1.5,
          "arrowwidth": 1.5,
          "ax": 20,
          "ay": 0,
          "font": {
           "size": 8
          },
          "showarrow": false,
          "text": "Node 0",
          "valign": "bottom",
          "x": "1970-01-01T00:00:00",
          "xref": "x",
          "y": "Truck 0",
          "yref": "y"
         },
         {
          "align": "center",
          "arrowhead": 2,
          "arrowsize": 1.5,
          "arrowwidth": 1.5,
          "ax": -20,
          "ay": 0,
          "font": {
           "size": 8
          },
          "showarrow": false,
          "text": "Node 2",
          "valign": "bottom",
          "x": "1970-01-01T01:00:00",
          "xref": "x",
          "y": "Truck 0",
          "yref": "y"
         },
         {
          "align": "center",
          "arrowhead": 2,
          "arrowsize": 1.5,
          "arrowwidth": 1.5,
          "ax": 20,
          "ay": 0,
          "font": {
           "size": 8
          },
          "showarrow": false,
          "text": "Node 2",
          "valign": "bottom",
          "x": "1970-01-01T02:00:00",
          "xref": "x",
          "y": "Truck 0",
          "yref": "y"
         },
         {
          "align": "center",
          "arrowhead": 2,
          "arrowsize": 1.5,
          "arrowwidth": 1.5,
          "ax": -20,
          "ay": 0,
          "font": {
           "size": 8
          },
          "showarrow": false,
          "text": "Node 4",
          "valign": "bottom",
          "x": "1970-01-01T03:00:00",
          "xref": "x",
          "y": "Truck 0",
          "yref": "y"
         },
         {
          "align": "center",
          "arrowhead": 2,
          "arrowsize": 1.5,
          "arrowwidth": 1.5,
          "ax": 20,
          "ay": 0,
          "font": {
           "size": 8
          },
          "showarrow": false,
          "text": "Node 4",
          "valign": "bottom",
          "x": "1970-01-01T04:00:00",
          "xref": "x",
          "y": "Truck 0",
          "yref": "y"
         },
         {
          "align": "center",
          "arrowhead": 2,
          "arrowsize": 1.5,
          "arrowwidth": 1.5,
          "ax": -20,
          "ay": 0,
          "font": {
           "size": 8
          },
          "showarrow": false,
          "text": "Node 2",
          "valign": "bottom",
          "x": "1970-01-01T05:00:00",
          "xref": "x",
          "y": "Truck 0",
          "yref": "y"
         },
         {
          "align": "center",
          "arrowhead": 2,
          "arrowsize": 1.5,
          "arrowwidth": 1.5,
          "ax": 20,
          "ay": 0,
          "font": {
           "size": 8
          },
          "showarrow": false,
          "text": "Node 3",
          "valign": "bottom",
          "x": "1970-01-01T01:00:00",
          "xref": "x",
          "y": "Truck 1",
          "yref": "y"
         },
         {
          "align": "center",
          "arrowhead": 2,
          "arrowsize": 1.5,
          "arrowwidth": 1.5,
          "ax": -20,
          "ay": 0,
          "font": {
           "size": 8
          },
          "showarrow": false,
          "text": "Node 4",
          "valign": "bottom",
          "x": "1970-01-01T02:00:00",
          "xref": "x",
          "y": "Truck 1",
          "yref": "y"
         },
         {
          "align": "center",
          "arrowhead": 2,
          "arrowsize": 1.5,
          "arrowwidth": 1.5,
          "ax": 20,
          "ay": 0,
          "font": {
           "size": 8
          },
          "showarrow": false,
          "text": "Node 4",
          "valign": "bottom",
          "x": "1970-01-01T03:00:00",
          "xref": "x",
          "y": "Truck 1",
          "yref": "y"
         },
         {
          "align": "center",
          "arrowhead": 2,
          "arrowsize": 1.5,
          "arrowwidth": 1.5,
          "ax": -20,
          "ay": 0,
          "font": {
           "size": 8
          },
          "showarrow": false,
          "text": "Node 2",
          "valign": "bottom",
          "x": "1970-01-01T04:00:00",
          "xref": "x",
          "y": "Truck 1",
          "yref": "y"
         }
        ],
        "legend": {
         "traceorder": "reversed"
        },
        "showlegend": true,
        "template": {
         "data": {
          "bar": [
           {
            "error_x": {
             "color": "#2a3f5f"
            },
            "error_y": {
             "color": "#2a3f5f"
            },
            "marker": {
             "line": {
              "color": "#E5ECF6",
              "width": 0.5
             },
             "pattern": {
              "fillmode": "overlay",
              "size": 10,
              "solidity": 0.2
             }
            },
            "type": "bar"
           }
          ],
          "barpolar": [
           {
            "marker": {
             "line": {
              "color": "#E5ECF6",
              "width": 0.5
             },
             "pattern": {
              "fillmode": "overlay",
              "size": 10,
              "solidity": 0.2
             }
            },
            "type": "barpolar"
           }
          ],
          "carpet": [
           {
            "aaxis": {
             "endlinecolor": "#2a3f5f",
             "gridcolor": "white",
             "linecolor": "white",
             "minorgridcolor": "white",
             "startlinecolor": "#2a3f5f"
            },
            "baxis": {
             "endlinecolor": "#2a3f5f",
             "gridcolor": "white",
             "linecolor": "white",
             "minorgridcolor": "white",
             "startlinecolor": "#2a3f5f"
            },
            "type": "carpet"
           }
          ],
          "choropleth": [
           {
            "colorbar": {
             "outlinewidth": 0,
             "ticks": ""
            },
            "type": "choropleth"
           }
          ],
          "contour": [
           {
            "colorbar": {
             "outlinewidth": 0,
             "ticks": ""
            },
            "colorscale": [
             [
              0,
              "#0d0887"
             ],
             [
              0.1111111111111111,
              "#46039f"
             ],
             [
              0.2222222222222222,
              "#7201a8"
             ],
             [
              0.3333333333333333,
              "#9c179e"
             ],
             [
              0.4444444444444444,
              "#bd3786"
             ],
             [
              0.5555555555555556,
              "#d8576b"
             ],
             [
              0.6666666666666666,
              "#ed7953"
             ],
             [
              0.7777777777777778,
              "#fb9f3a"
             ],
             [
              0.8888888888888888,
              "#fdca26"
             ],
             [
              1,
              "#f0f921"
             ]
            ],
            "type": "contour"
           }
          ],
          "contourcarpet": [
           {
            "colorbar": {
             "outlinewidth": 0,
             "ticks": ""
            },
            "type": "contourcarpet"
           }
          ],
          "heatmap": [
           {
            "colorbar": {
             "outlinewidth": 0,
             "ticks": ""
            },
            "colorscale": [
             [
              0,
              "#0d0887"
             ],
             [
              0.1111111111111111,
              "#46039f"
             ],
             [
              0.2222222222222222,
              "#7201a8"
             ],
             [
              0.3333333333333333,
              "#9c179e"
             ],
             [
              0.4444444444444444,
              "#bd3786"
             ],
             [
              0.5555555555555556,
              "#d8576b"
             ],
             [
              0.6666666666666666,
              "#ed7953"
             ],
             [
              0.7777777777777778,
              "#fb9f3a"
             ],
             [
              0.8888888888888888,
              "#fdca26"
             ],
             [
              1,
              "#f0f921"
             ]
            ],
            "type": "heatmap"
           }
          ],
          "heatmapgl": [
           {
            "colorbar": {
             "outlinewidth": 0,
             "ticks": ""
            },
            "colorscale": [
             [
              0,
              "#0d0887"
             ],
             [
              0.1111111111111111,
              "#46039f"
             ],
             [
              0.2222222222222222,
              "#7201a8"
             ],
             [
              0.3333333333333333,
              "#9c179e"
             ],
             [
              0.4444444444444444,
              "#bd3786"
             ],
             [
              0.5555555555555556,
              "#d8576b"
             ],
             [
              0.6666666666666666,
              "#ed7953"
             ],
             [
              0.7777777777777778,
              "#fb9f3a"
             ],
             [
              0.8888888888888888,
              "#fdca26"
             ],
             [
              1,
              "#f0f921"
             ]
            ],
            "type": "heatmapgl"
           }
          ],
          "histogram": [
           {
            "marker": {
             "pattern": {
              "fillmode": "overlay",
              "size": 10,
              "solidity": 0.2
             }
            },
            "type": "histogram"
           }
          ],
          "histogram2d": [
           {
            "colorbar": {
             "outlinewidth": 0,
             "ticks": ""
            },
            "colorscale": [
             [
              0,
              "#0d0887"
             ],
             [
              0.1111111111111111,
              "#46039f"
             ],
             [
              0.2222222222222222,
              "#7201a8"
             ],
             [
              0.3333333333333333,
              "#9c179e"
             ],
             [
              0.4444444444444444,
              "#bd3786"
             ],
             [
              0.5555555555555556,
              "#d8576b"
             ],
             [
              0.6666666666666666,
              "#ed7953"
             ],
             [
              0.7777777777777778,
              "#fb9f3a"
             ],
             [
              0.8888888888888888,
              "#fdca26"
             ],
             [
              1,
              "#f0f921"
             ]
            ],
            "type": "histogram2d"
           }
          ],
          "histogram2dcontour": [
           {
            "colorbar": {
             "outlinewidth": 0,
             "ticks": ""
            },
            "colorscale": [
             [
              0,
              "#0d0887"
             ],
             [
              0.1111111111111111,
              "#46039f"
             ],
             [
              0.2222222222222222,
              "#7201a8"
             ],
             [
              0.3333333333333333,
              "#9c179e"
             ],
             [
              0.4444444444444444,
              "#bd3786"
             ],
             [
              0.5555555555555556,
              "#d8576b"
             ],
             [
              0.6666666666666666,
              "#ed7953"
             ],
             [
              0.7777777777777778,
              "#fb9f3a"
             ],
             [
              0.8888888888888888,
              "#fdca26"
             ],
             [
              1,
              "#f0f921"
             ]
            ],
            "type": "histogram2dcontour"
           }
          ],
          "mesh3d": [
           {
            "colorbar": {
             "outlinewidth": 0,
             "ticks": ""
            },
            "type": "mesh3d"
           }
          ],
          "parcoords": [
           {
            "line": {
             "colorbar": {
              "outlinewidth": 0,
              "ticks": ""
             }
            },
            "type": "parcoords"
           }
          ],
          "pie": [
           {
            "automargin": true,
            "type": "pie"
           }
          ],
          "scatter": [
           {
            "fillpattern": {
             "fillmode": "overlay",
             "size": 10,
             "solidity": 0.2
            },
            "type": "scatter"
           }
          ],
          "scatter3d": [
           {
            "line": {
             "colorbar": {
              "outlinewidth": 0,
              "ticks": ""
             }
            },
            "marker": {
             "colorbar": {
              "outlinewidth": 0,
              "ticks": ""
             }
            },
            "type": "scatter3d"
           }
          ],
          "scattercarpet": [
           {
            "marker": {
             "colorbar": {
              "outlinewidth": 0,
              "ticks": ""
             }
            },
            "type": "scattercarpet"
           }
          ],
          "scattergeo": [
           {
            "marker": {
             "colorbar": {
              "outlinewidth": 0,
              "ticks": ""
             }
            },
            "type": "scattergeo"
           }
          ],
          "scattergl": [
           {
            "marker": {
             "colorbar": {
              "outlinewidth": 0,
              "ticks": ""
             }
            },
            "type": "scattergl"
           }
          ],
          "scattermapbox": [
           {
            "marker": {
             "colorbar": {
              "outlinewidth": 0,
              "ticks": ""
             }
            },
            "type": "scattermapbox"
           }
          ],
          "scatterpolar": [
           {
            "marker": {
             "colorbar": {
              "outlinewidth": 0,
              "ticks": ""
             }
            },
            "type": "scatterpolar"
           }
          ],
          "scatterpolargl": [
           {
            "marker": {
             "colorbar": {
              "outlinewidth": 0,
              "ticks": ""
             }
            },
            "type": "scatterpolargl"
           }
          ],
          "scatterternary": [
           {
            "marker": {
             "colorbar": {
              "outlinewidth": 0,
              "ticks": ""
             }
            },
            "type": "scatterternary"
           }
          ],
          "surface": [
           {
            "colorbar": {
             "outlinewidth": 0,
             "ticks": ""
            },
            "colorscale": [
             [
              0,
              "#0d0887"
             ],
             [
              0.1111111111111111,
              "#46039f"
             ],
             [
              0.2222222222222222,
              "#7201a8"
             ],
             [
              0.3333333333333333,
              "#9c179e"
             ],
             [
              0.4444444444444444,
              "#bd3786"
             ],
             [
              0.5555555555555556,
              "#d8576b"
             ],
             [
              0.6666666666666666,
              "#ed7953"
             ],
             [
              0.7777777777777778,
              "#fb9f3a"
             ],
             [
              0.8888888888888888,
              "#fdca26"
             ],
             [
              1,
              "#f0f921"
             ]
            ],
            "type": "surface"
           }
          ],
          "table": [
           {
            "cells": {
             "fill": {
              "color": "#EBF0F8"
             },
             "line": {
              "color": "white"
             }
            },
            "header": {
             "fill": {
              "color": "#C8D4E3"
             },
             "line": {
              "color": "white"
             }
            },
            "type": "table"
           }
          ]
         },
         "layout": {
          "annotationdefaults": {
           "arrowcolor": "#2a3f5f",
           "arrowhead": 0,
           "arrowwidth": 1
          },
          "autotypenumbers": "strict",
          "coloraxis": {
           "colorbar": {
            "outlinewidth": 0,
            "ticks": ""
           }
          },
          "colorscale": {
           "diverging": [
            [
             0,
             "#8e0152"
            ],
            [
             0.1,
             "#c51b7d"
            ],
            [
             0.2,
             "#de77ae"
            ],
            [
             0.3,
             "#f1b6da"
            ],
            [
             0.4,
             "#fde0ef"
            ],
            [
             0.5,
             "#f7f7f7"
            ],
            [
             0.6,
             "#e6f5d0"
            ],
            [
             0.7,
             "#b8e186"
            ],
            [
             0.8,
             "#7fbc41"
            ],
            [
             0.9,
             "#4d9221"
            ],
            [
             1,
             "#276419"
            ]
           ],
           "sequential": [
            [
             0,
             "#0d0887"
            ],
            [
             0.1111111111111111,
             "#46039f"
            ],
            [
             0.2222222222222222,
             "#7201a8"
            ],
            [
             0.3333333333333333,
             "#9c179e"
            ],
            [
             0.4444444444444444,
             "#bd3786"
            ],
            [
             0.5555555555555556,
             "#d8576b"
            ],
            [
             0.6666666666666666,
             "#ed7953"
            ],
            [
             0.7777777777777778,
             "#fb9f3a"
            ],
            [
             0.8888888888888888,
             "#fdca26"
            ],
            [
             1,
             "#f0f921"
            ]
           ],
           "sequentialminus": [
            [
             0,
             "#0d0887"
            ],
            [
             0.1111111111111111,
             "#46039f"
            ],
            [
             0.2222222222222222,
             "#7201a8"
            ],
            [
             0.3333333333333333,
             "#9c179e"
            ],
            [
             0.4444444444444444,
             "#bd3786"
            ],
            [
             0.5555555555555556,
             "#d8576b"
            ],
            [
             0.6666666666666666,
             "#ed7953"
            ],
            [
             0.7777777777777778,
             "#fb9f3a"
            ],
            [
             0.8888888888888888,
             "#fdca26"
            ],
            [
             1,
             "#f0f921"
            ]
           ]
          },
          "colorway": [
           "#636efa",
           "#EF553B",
           "#00cc96",
           "#ab63fa",
           "#FFA15A",
           "#19d3f3",
           "#FF6692",
           "#B6E880",
           "#FF97FF",
           "#FECB52"
          ],
          "font": {
           "color": "#2a3f5f"
          },
          "geo": {
           "bgcolor": "white",
           "lakecolor": "white",
           "landcolor": "#E5ECF6",
           "showlakes": true,
           "showland": true,
           "subunitcolor": "white"
          },
          "hoverlabel": {
           "align": "left"
          },
          "hovermode": "closest",
          "mapbox": {
           "style": "light"
          },
          "paper_bgcolor": "white",
          "plot_bgcolor": "#E5ECF6",
          "polar": {
           "angularaxis": {
            "gridcolor": "white",
            "linecolor": "white",
            "ticks": ""
           },
           "bgcolor": "#E5ECF6",
           "radialaxis": {
            "gridcolor": "white",
            "linecolor": "white",
            "ticks": ""
           }
          },
          "scene": {
           "xaxis": {
            "backgroundcolor": "#E5ECF6",
            "gridcolor": "white",
            "gridwidth": 2,
            "linecolor": "white",
            "showbackground": true,
            "ticks": "",
            "zerolinecolor": "white"
           },
           "yaxis": {
            "backgroundcolor": "#E5ECF6",
            "gridcolor": "white",
            "gridwidth": 2,
            "linecolor": "white",
            "showbackground": true,
            "ticks": "",
            "zerolinecolor": "white"
           },
           "zaxis": {
            "backgroundcolor": "#E5ECF6",
            "gridcolor": "white",
            "gridwidth": 2,
            "linecolor": "white",
            "showbackground": true,
            "ticks": "",
            "zerolinecolor": "white"
           }
          },
          "shapedefaults": {
           "line": {
            "color": "#2a3f5f"
           }
          },
          "ternary": {
           "aaxis": {
            "gridcolor": "white",
            "linecolor": "white",
            "ticks": ""
           },
           "baxis": {
            "gridcolor": "white",
            "linecolor": "white",
            "ticks": ""
           },
           "bgcolor": "#E5ECF6",
           "caxis": {
            "gridcolor": "white",
            "linecolor": "white",
            "ticks": ""
           }
          },
          "title": {
           "x": 0.05
          },
          "xaxis": {
           "automargin": true,
           "gridcolor": "white",
           "linecolor": "white",
           "ticks": "",
           "title": {
            "standoff": 15
           },
           "zerolinecolor": "white",
           "zerolinewidth": 2
          },
          "yaxis": {
           "automargin": true,
           "gridcolor": "white",
           "linecolor": "white",
           "ticks": "",
           "title": {
            "standoff": 15
           },
           "zerolinecolor": "white",
           "zerolinewidth": 2
          }
         }
        },
        "xaxis": {
         "showticklabels": false
        },
        "yaxis": {
         "autorange": "reversed"
        }
       }
      }
     },
     "metadata": {},
     "output_type": "display_data"
    }
   ],
   "source": [
    "env = EVRP\n",
    "dataset = env.make_dataset(\n",
    "        filename='../instances/example_graph_5_swapping.json'\n",
    "    )\n",
    "\n",
    "# Need a dataloader to batch instances\n",
    "dataloader = DataLoader(dataset, batch_size=1, collate_fn=collate_fn)\n",
    "\n",
    "# Make var works for dicts\n",
    "batch = next(iter(dataloader))\n",
    "\n",
    "# Run the model\n",
    "model.eval()\n",
    "model.set_decode_type('greedy')\n",
    "\n",
    "with torch.no_grad():\n",
    "    length, _, edges, decision = model(batch[0].copy(), batch[1].copy(), return_pi=True)\n",
    "\n",
    "edges=edges.permute(1,2,0)\n",
    "decision=decision.permute(0, 2, 1)\n",
    "\n",
    "for i, graph in enumerate(batch[1]):\n",
    "    print(\"graph_index\", i)\n",
    "    fig, ax = plt.subplots()\n",
    "    graph.draw(ax=ax, with_labels=True)\n",
    "    plt.show()\n",
    "\n",
    "    for edge, d in zip(edges[i], decision[i]):\n",
    "        fig, ax = plt.subplots()\n",
    "        print(edge, d)\n",
    "\n",
    "        graph.clear()\n",
    "        edge = graph.visit_edge([edge])\n",
    "        graph.update_attributes(edge)\n",
    "        graph.draw(ax=ax, with_labels=True)\n",
    "\n",
    "        plt.show()\n",
    "\n",
    "    data = edges[0].numpy().astype(int)\n",
    "    plot_timeline(data)"
   ]
  },
  {
   "cell_type": "code",
   "execution_count": null,
   "metadata": {},
   "outputs": [],
   "source": []
  }
 ],
 "metadata": {
  "kernelspec": {
   "display_name": "Python 3 (ipykernel)",
   "language": "python",
   "name": "python3"
  },
  "language_info": {
   "codemirror_mode": {
    "name": "ipython",
    "version": 3
   },
   "file_extension": ".py",
   "mimetype": "text/x-python",
   "name": "python",
   "nbconvert_exporter": "python",
   "pygments_lexer": "ipython3",
   "version": "3.10.10"
  }
 },
 "nbformat": 4,
 "nbformat_minor": 2
}
